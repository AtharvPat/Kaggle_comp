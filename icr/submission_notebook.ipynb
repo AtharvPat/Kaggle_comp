{
 "cells": [
  {
   "cell_type": "code",
   "execution_count": 1,
   "metadata": {},
   "outputs": [],
   "source": [
    "import os\n",
    "import shutil\n",
    "import subprocess\n",
    "from collections import defaultdict\n",
    "from copy import copy\n",
    "from itertools import product\n",
    "from functools import reduce\n",
    "from functools import partial\n",
    "from pathlib import Path\n",
    "\n",
    "# Sub-modules and so on.\n",
    "import matplotlib.pyplot as plt\n",
    "import numpy as np\n",
    "import pandas as pd\n",
    "import plotly.express as px\n",
    "import plotly.figure_factory as ff\n",
    "import plotly.graph_objects as go\n",
    "import seaborn as sns\n",
    "import scipy.stats as stats\n",
    "from colorama import Fore, Style\n",
    "from IPython.core.display import HTML\n",
    "from IPython.display import display_html\n",
    "from IPython.display import clear_output\n",
    "from matplotlib.colors import Colormap\n",
    "from plotly.subplots import make_subplots\n",
    "from scipy.cluster.hierarchy import fcluster, linkage\n",
    "from scipy.spatial.distance import squareform\n",
    "from scipy.stats import gaussian_kde, probplot\n",
    "\n",
    "from sklearn.preprocessing import PowerTransformer\n",
    "from sklearn.compose import make_column_transformer\n",
    "from sklearn.compose import make_column_selector\n",
    "from sklearn.preprocessing import StandardScaler\n",
    "from sklearn.preprocessing import OneHotEncoder\n",
    "from sklearn.pipeline import make_pipeline\n",
    "from sklearn.metrics import make_scorer\n",
    "from sklearn.impute import SimpleImputer\n",
    "from sklearn.model_selection import cross_val_score\n",
    "from sklearn.model_selection import StratifiedKFold\n",
    "from catboost import CatBoostClassifier\n",
    "from lightgbm import LGBMClassifier\n",
    "from xgboost import XGBClassifier\n",
    "\n",
    "from sklearn.manifold import TSNE\n",
    "from sklearn.compose import make_column_transformer\n",
    "from sklearn.pipeline import make_pipeline\n",
    "from sklearn.preprocessing import FunctionTransformer\n",
    "from sklearn.preprocessing import StandardScaler\n",
    "from sklearn.preprocessing import OneHotEncoder\n",
    "from sklearn.impute import SimpleImputer\n",
    "from sklearn.impute import KNNImputer\n",
    "from sklearn import set_config\n",
    "from sklearn.tree import DecisionTreeClassifier\n",
    "from sklearn.tree import plot_tree\n",
    "from sklearn.discriminant_analysis import LinearDiscriminantAnalysis\n",
    "from sklearn.ensemble import RandomForestClassifier\n",
    "from sklearn.feature_selection import mutual_info_classif\n",
    "from sklearn.metrics import accuracy_score\n",
    "from sklearn.model_selection import StratifiedKFold\n",
    "from sklearn.linear_model import LogisticRegression\n",
    "from sklearn.linear_model import RidgeClassifier\n",
    "from sklearn.ensemble import RandomForestClassifier\n",
    "from sklearn.ensemble import ExtraTreesClassifier\n",
    "from sklearn.ensemble import GradientBoostingClassifier\n",
    "from sklearn.svm import LinearSVC\n",
    "from sklearn.svm import NuSVC\n",
    "from sklearn.svm import SVC\n",
    "from sklearn.neighbors import KNeighborsClassifier\n",
    "from sklearn.model_selection import cross_val_score\n",
    "from sklearn.metrics import precision_score, recall_score, f1_score, accuracy_score\n",
    "from sklearn.metrics import roc_curve, roc_auc_score\n",
    "from sklearn.metrics import confusion_matrix\n",
    "from sklearn.model_selection import cross_val_predict\n",
    "from sklearn.model_selection import learning_curve\n",
    "from sklearn.model_selection import RandomizedSearchCV\n",
    "from sklearn.feature_selection import SelectKBest\n",
    "from sklearn.feature_selection import SelectFromModel\n",
    "from sklearn.base import BaseEstimator, TransformerMixin\n",
    "from sklearn.preprocessing import Binarizer, OrdinalEncoder\n",
    "from sklearn.utils.validation import check_is_fitted\n",
    "from sklearn.feature_selection import RFE, SelectPercentile, SequentialFeatureSelector\n",
    "from sklearn.kernel_approximation import Nystroem\n",
    "from sklearn.linear_model import LogisticRegression\n",
    "from sklearn.cluster import AffinityPropagation, KMeans, MeanShift, Birch\n",
    "from sklearn.ensemble import HistGradientBoostingClassifier\n",
    "from sklearn.ensemble import VotingClassifier\n",
    "from sklearn.base import clone\n",
    "from sklearn.feature_selection import SelectPercentile\n",
    "from scipy.stats import randint, expon, reciprocal, uniform\n",
    "\n",
    "ON_KAGGLE = os.getenv(\"KAGGLE_KERNEL_RUN_TYPE\") is not None\n",
    "\n",
    "# Colorama settings.\n",
    "CLR = (Style.BRIGHT + Fore.BLACK) if ON_KAGGLE else (Style.BRIGHT + Fore.WHITE)\n",
    "RED = Style.BRIGHT + Fore.RED\n",
    "BLUE = Style.BRIGHT + Fore.BLUE\n",
    "CYAN = Style.BRIGHT + Fore.CYAN\n",
    "RESET = Style.RESET_ALL\n",
    "\n",
    "# Colors\n",
    "DF_CMAP: Colormap = sns.light_palette(\"#8C92AC\", as_cmap=True)  # type: ignore\n",
    "FONT_COLOR = \"#010D36\"\n",
    "BACKGROUND_COLOR = \"#F6F5F5\"\n",
    "\n",
    "cell_hover = {  # for row hover use <tr> instead of <td>\n",
    "    \"selector\": \"td:hover\",\n",
    "    \"props\": \"background-color: #F6F5F5\",\n",
    "}\n",
    "text_highlight = {\n",
    "    \"selector\": \"td\",\n",
    "    \"props\": \"color: #FF2079; font-weight: bold\",\n",
    "}\n",
    "index_names = {\n",
    "    \"selector\": \".index_name\",\n",
    "    \"props\": \"font-style: italic; background-color: #010D36; color: #F2F2F0;\",\n",
    "}\n",
    "headers = {\n",
    "    \"selector\": \"th:not(.index_name)\",\n",
    "    \"props\": \"font-style: italic; background-color: #010D36; color: #F2F2F0;\",\n",
    "}\n",
    "DF_STYLE = (index_names, headers, text_highlight)\n",
    "\n",
    "MY_RC = {\n",
    "    \"axes.labelcolor\": FONT_COLOR,\n",
    "    \"axes.labelsize\": 10,\n",
    "    \"axes.labelpad\": 15,\n",
    "    \"axes.labelweight\": \"bold\",\n",
    "    \"axes.titlesize\": 14,\n",
    "    \"axes.titleweight\": \"bold\",\n",
    "    \"axes.titlepad\": 15,\n",
    "    \"axes.facecolor\": BACKGROUND_COLOR,\n",
    "    \"xtick.labelsize\": 10,\n",
    "    \"xtick.color\": FONT_COLOR,\n",
    "    \"ytick.labelsize\": 10,\n",
    "    \"ytick.color\": FONT_COLOR,\n",
    "    \"figure.titlesize\": 14,\n",
    "    \"figure.titleweight\": \"bold\",\n",
    "    \"figure.facecolor\": BACKGROUND_COLOR,\n",
    "    \"figure.edgecolor\": BACKGROUND_COLOR,\n",
    "    \"figure.dpi\": 72,  # Locally Seaborn uses 72, meanwhile Kaggle 96.\n",
    "    \"font.size\": 10,\n",
    "    \"font.family\": \"Serif\",\n",
    "    \"text.color\": FONT_COLOR,\n",
    "}\n",
    "sns.set_theme(rc=MY_RC)\n",
    "\n",
    "\n",
    "# Utility functions.\n",
    "def download_dataset_from_kaggle(user, dataset, directory):\n",
    "    command = \"kaggle datasets download -d \"\n",
    "    filepath = directory / (dataset + \".zip\")\n",
    "\n",
    "    if not filepath.is_file():\n",
    "        subprocess.run((command + user + \"/\" + dataset).split())\n",
    "        filepath.parent.mkdir(parents=True, exist_ok=True)\n",
    "        shutil.unpack_archive(dataset + \".zip\", \"data\")\n",
    "        shutil.move(dataset + \".zip\", \"data\")\n",
    "\n",
    "\n",
    "def download_competition_from_kaggle(competition):\n",
    "    command = \"kaggle competitions download -c \"\n",
    "    filepath = Path(\"data/\" + competition + \".zip\")\n",
    "\n",
    "    if not filepath.is_file():\n",
    "        subprocess.run((command + competition).split())\n",
    "        Path(\"data\").mkdir(parents=True, exist_ok=True)\n",
    "        shutil.unpack_archive(competition + \".zip\", \"data\")\n",
    "        shutil.move(competition + \".zip\", \"data\")\n"
   ]
  },
  {
   "cell_type": "code",
   "execution_count": 2,
   "metadata": {},
   "outputs": [],
   "source": [
    "competition = \"icr-identify-age-related-conditions\"\n",
    "\n",
    "if not ON_KAGGLE:\n",
    "    download_competition_from_kaggle(competition)\n",
    "    train_path = \"data/train.csv\"\n",
    "    test_path = \"data/test.csv\"\n",
    "    greeks_path = \"data/greeks.csv\"\n",
    "else:\n",
    "    train_path = f\"/kaggle/input/{competition}/train.csv\"\n",
    "    test_path = f\"/kaggle/input/{competition}/test.csv\"\n",
    "    greeks_path = f\"/kaggle/input/{competition}/greeks.csv\"\n",
    "\n",
    "train = pd.read_csv(train_path, index_col=\"Id\").rename(columns=str.strip)\n",
    "test = pd.read_csv(test_path, index_col=\"Id\").rename(columns=str.strip)\n",
    "greeks = pd.read_csv(greeks_path, index_col=\"Id\").rename(columns=str.strip)\n"
   ]
  },
  {
   "cell_type": "code",
   "execution_count": 3,
   "metadata": {},
   "outputs": [],
   "source": [
    "numeric_descr = (\n",
    "    train.drop(\"Class\", axis=1)\n",
    "    .describe(percentiles=[0.01, 0.05, 0.25, 0.50, 0.75, 0.95, 0.99])\n",
    "    .drop(\"count\")\n",
    "    .T.rename(columns=str.title)\n",
    ")"
   ]
  },
  {
   "cell_type": "code",
   "execution_count": 4,
   "metadata": {},
   "outputs": [],
   "source": [
    "numeric_data = train.select_dtypes(\"number\")\n",
    "numeric_cols = numeric_data.drop(\"Class\", axis=1).columns.tolist()\n",
    "r2_scores = defaultdict(tuple)\n",
    "\n",
    "for feature in numeric_cols:\n",
    "    orig = train[feature].dropna()\n",
    "    _, (*_, R_orig) = probplot(orig, rvalue=True)\n",
    "    _, (*_, R_log) = probplot(np.log(orig), rvalue=True)\n",
    "    _, (*_, R_sqrt) = probplot(np.sqrt(orig), rvalue=True)\n",
    "    _, (*_, R_reci) = probplot(np.reciprocal(orig), rvalue=True)\n",
    "    _, (*_, R_boxcox) = probplot(stats.boxcox(orig)[0], rvalue=True)\n",
    "    _, (*_, R_yeojohn) = probplot(stats.yeojohnson(orig)[0], rvalue=True)\n",
    "    r2_scores[feature] = (\n",
    "        R_orig * R_orig,\n",
    "        R_log * R_log,\n",
    "        R_sqrt * R_sqrt,\n",
    "        R_reci * R_reci,\n",
    "        R_boxcox * R_boxcox,\n",
    "        R_yeojohn * R_yeojohn,\n",
    "    )\n",
    "\n",
    "r2_scores = pd.DataFrame(\n",
    "    r2_scores, index=(\"Original\", \"Log\", \"Sqrt\", \"Reciprocal\", \"BoxCox\", \"YeoJohnson\")\n",
    ").T\n",
    "\n",
    "r2_scores[\"Winner\"] = r2_scores.idxmax(axis=1)\n"
   ]
  },
  {
   "cell_type": "code",
   "execution_count": 5,
   "metadata": {},
   "outputs": [],
   "source": [
    "no_transform_cols = r2_scores.query(\"Winner == 'Original'\").index\n",
    "log_transform_cols = r2_scores.query(\"Winner == 'Log'\").index\n",
    "reciprocal_transform_cols = r2_scores.query(\"Winner == 'Reciprocal'\").index\n",
    "boxcox_transform_cols = r2_scores.query(\"Winner == 'BoxCox'\").index\n",
    "yeojohnson_transform_cols = r2_scores.query(\"Winner == 'YeoJohnson'\").index\n"
   ]
  },
  {
   "cell_type": "code",
   "execution_count": 6,
   "metadata": {},
   "outputs": [],
   "source": [
    "semi_constant_mask = np.isclose(numeric_descr[\"Min\"], numeric_descr[\"50%\"])\n",
    "semi_constant_descr = numeric_descr[semi_constant_mask]\n",
    "semi_const_cols_thresholds = semi_constant_descr[\"50%\"].to_dict()\n"
   ]
  },
  {
   "cell_type": "code",
   "execution_count": 7,
   "metadata": {},
   "outputs": [],
   "source": [
    "semi_const_cols = semi_const_cols_thresholds.keys()\n",
    "\n",
    "no_transform_cols = no_transform_cols.drop(semi_const_cols, errors=\"ignore\")\n",
    "log_transform_cols = log_transform_cols.drop(semi_const_cols, errors=\"ignore\")\n",
    "reciprocal_transform_cols = reciprocal_transform_cols.drop(semi_const_cols, errors=\"ignore\")\n",
    "boxcox_transform_cols = boxcox_transform_cols.drop(semi_const_cols, errors=\"ignore\")\n",
    "yeojohnson_transform_cols = yeojohnson_transform_cols.drop(semi_const_cols, errors=\"ignore\")\n",
    "\n",
    "redundant_variables = [\n",
    "    \"CW\", \"GI\", \"GL\", \"AZ\", \"BP\", \"BR\", \"CF\", \"CR\", \"CS\", \n",
    "    \"CU\", \"DA\", \"DH\", \"GB\", \"GF\", \"DF\", \"DV\", \"EP\", \"GE\",\n",
    "]"
   ]
  },
  {
   "cell_type": "code",
   "execution_count": 8,
   "metadata": {},
   "outputs": [],
   "source": [
    "preliminary_transform_preprocess = make_pipeline(\n",
    "    make_column_transformer(\n",
    "        (\n",
    "            StandardScaler(),\n",
    "            no_transform_cols.to_list(),\n",
    "        ),\n",
    "        (\n",
    "            make_pipeline(\n",
    "                FunctionTransformer(func=np.log, feature_names_out=\"one-to-one\"),\n",
    "                StandardScaler(),\n",
    "            ),\n",
    "            log_transform_cols.to_list(),\n",
    "        ),\n",
    "        (\n",
    "            make_pipeline(\n",
    "                FunctionTransformer(func=np.reciprocal, feature_names_out=\"one-to-one\"),\n",
    "                StandardScaler(),\n",
    "            ),\n",
    "            reciprocal_transform_cols.to_list(),\n",
    "        ),\n",
    "        (\n",
    "            PowerTransformer(method=\"box-cox\", standardize=True),\n",
    "            boxcox_transform_cols.to_list(),\n",
    "        ),\n",
    "        (\n",
    "            PowerTransformer(method=\"yeo-johnson\", standardize=True),\n",
    "            yeojohnson_transform_cols.to_list(),\n",
    "        ),\n",
    "        (\n",
    "            make_pipeline(\n",
    "                SimpleImputer(strategy=\"most_frequent\"),\n",
    "                OrdinalEncoder(handle_unknown=\"use_encoded_value\", unknown_value=-1),\n",
    "            ),\n",
    "            make_column_selector(dtype_include=object),  # type: ignore\n",
    "        ),\n",
    "        *[\n",
    "            (\n",
    "                make_pipeline(\n",
    "                    SimpleImputer(strategy=\"median\"),\n",
    "                    Binarizer(threshold=thresh),\n",
    "                ),\n",
    "                [col],\n",
    "            )\n",
    "            for col, thresh in semi_const_cols_thresholds.items()\n",
    "        ],\n",
    "        remainder=\"drop\",\n",
    "        verbose_feature_names_out=False,\n",
    "        n_jobs=4,\n",
    "    ),\n",
    "    KNNImputer(n_neighbors=10, weights=\"distance\"),\n",
    ").set_output(transform=\"pandas\")\n"
   ]
  },
  {
   "cell_type": "code",
   "execution_count": 9,
   "metadata": {},
   "outputs": [],
   "source": [
    "def balanced_log_loss(y_true, y_pred, **kwargs):\n",
    "    \"\"\"Competition evaluation metric - negative balanced logarithmic loss.\n",
    "    The overall effect is such that each class is roughly equally\n",
    "    important for the final score.\"\"\"\n",
    "    N0, N1 = np.bincount(y_true)\n",
    "\n",
    "    y0 = np.where(y_true == 0, 1, 0)\n",
    "    y1 = np.where(y_true == 1, 1, 0)\n",
    "\n",
    "    eps = kwargs.get(\"eps\", 1e-15)\n",
    "    y_pred = np.clip(y_pred, eps, 1 - eps)\n",
    "    p0 = np.log(1 - y_pred)\n",
    "    p1 = np.log(y_pred)\n",
    "\n",
    "    return -(1 / N0 * np.sum(y0 * p0) + 1 / N1 * np.sum(y1 * p1)) * 0.5\n"
   ]
  },
  {
   "cell_type": "code",
   "execution_count": 10,
   "metadata": {},
   "outputs": [],
   "source": [
    "def get_undersampling_fraction(y_true):\n",
    "    N0, N1 = np.bincount(y_true)\n",
    "    return 1 - N1 / N0\n",
    "\n",
    "\n",
    "def assert_balanced_learning(y_train, n_samples_tol=1):\n",
    "    N0, N1 = np.bincount(y_train)\n",
    "    assert np.isclose(N0, N1, atol=n_samples_tol)\n",
    "\n",
    "\n",
    "def get_sample_weights(y_true):\n",
    "    N0, N1 = np.bincount(y_true)\n",
    "    y0, y1 = np.unique(y_true)\n",
    "    return np.where(y_true == y1, N0 / N1, 1.0)\n",
    "\n",
    "\n",
    "def perform_postprocessing(\n",
    "    y_proba,\n",
    "    rounding=True,\n",
    "    rounding_prec=4,\n",
    "    boosting=True,\n",
    "    boosting_coef=0.8,\n",
    "    shifting=True,\n",
    "    shifting_map=None,\n",
    "):\n",
    "    def my_ceil(x, prec=rounding_prec):\n",
    "        return np.true_divide(np.ceil(x * 10**prec), 10**prec)\n",
    "\n",
    "    def my_floor(x, prec=rounding_prec):\n",
    "        return np.true_divide(np.floor(x * 10**prec), 10**prec)\n",
    "\n",
    "    proba = y_proba.copy()\n",
    "\n",
    "    if rounding:\n",
    "        proba = np.where(proba > 0.5, my_floor(proba), my_ceil(proba))\n",
    "\n",
    "    if boosting:\n",
    "        odds = boosting_coef * proba / (1 - proba)\n",
    "        proba = odds / (1 + odds)\n",
    "\n",
    "    if shifting:\n",
    "        if not shifting_map:\n",
    "            shifting_map = {\"low\": (0.01, 0.02), \"high\": (0.99, 0.98)}\n",
    "        low_shift_from, low_shift_to = shifting_map.get(\"low\", (0.01, 0.02))\n",
    "        high_shift_from, high_shift_to = shifting_map.get(\"high\", (0.99, 0.98))\n",
    "        proba[proba < low_shift_from] = low_shift_to\n",
    "        proba[proba > high_shift_from] = high_shift_to\n",
    "\n",
    "    return proba\n"
   ]
  },
  {
   "attachments": {},
   "cell_type": "markdown",
   "metadata": {},
   "source": [
    "# PLAYGROUND"
   ]
  },
  {
   "cell_type": "code",
   "execution_count": 11,
   "metadata": {},
   "outputs": [],
   "source": [
    "def print_seed_results(seed, results_in, results_out):\n",
    "    print(\n",
    "        CLR + \"Seed:\",\n",
    "        RED + f\"{str(seed):3s}\",\n",
    "        CLR + \"-\",\n",
    "        CLR + \"Inner CV Score:\",\n",
    "        RED + f\"{results_in.mean():.5f} \\u00b1 {results_in.std():.5f}\",\n",
    "        CLR + \"-\",\n",
    "        CLR + \"Outer CV Score:\",\n",
    "        RED + f\"{results_out.mean():.5f} \\u00b1 {results_out.std():.5f}\",\n",
    "    )\n",
    "\n",
    "\n",
    "def print_average_results(results_in_over_seeds, results_out_over_seeds):\n",
    "    print(\n",
    "        CLR + \"\\nAverage Inner CV Score:\",\n",
    "        RED + f\"{results_in_over_seeds.mean():.5f} \\u00b1 {results_in_over_seeds.std():.5f}\",\n",
    "        CLR + \"-\",\n",
    "        CLR + \"Average Outer CV Score:\",\n",
    "        RED + f\"{results_out_over_seeds.mean():.5f} \\u00b1 {results_out_over_seeds.std():.5f}\\n\",\n",
    "    )\n"
   ]
  },
  {
   "cell_type": "code",
   "execution_count": 76,
   "metadata": {},
   "outputs": [],
   "source": [
    "np.random.seed(42)\n",
    "\n",
    "n_folds = 5\n",
    "n_seeds = 10\n",
    "\n",
    "X = train.drop(\"Class\", axis=1)\n",
    "y = train.Class\n",
    "\n",
    "seeds = np.random.randint(0, 1000, size=n_seeds)\n",
    "pos_weight = np.max(get_sample_weights(y))"
   ]
  },
  {
   "cell_type": "code",
   "execution_count": 87,
   "metadata": {},
   "outputs": [],
   "source": [
    "relevant_variables = [\n",
    "    \"AB\",\n",
    "    \"AF\",\n",
    "    \"BQ\",\n",
    "    \"CC\",\n",
    "    \"CD\",\n",
    "    \"CH\",\n",
    "    \"CR\",\n",
    "    \"DE\",\n",
    "    \"DL\",\n",
    "    \"DN\",\n",
    "    \"DU\",\n",
    "    \"DY\",\n",
    "    \"EB\",\n",
    "    \"EE\",\n",
    "    \"EL\",\n",
    "    \"EU\",\n",
    "    \"FI\",\n",
    "    \"FR\",\n",
    "    \"GL\",\n",
    "]\n",
    "\n",
    "xgb_params = {\n",
    "    \"max_depth\": 2,\n",
    "    \"n_estimators\": 200,\n",
    "    \"learning_rate\": 0.15,\n",
    "    \"min_child_weight\": 9.5,\n",
    "    \"colsample_bytree\": 0.8,\n",
    "    \"colsample_bylevel\": 0.8,\n",
    "    \"min_split_loss\": 1.0,\n",
    "    \"reg_lambda\": 3.0,\n",
    "    \"scale_pos_weight\": pos_weight,\n",
    "}\n",
    "\n",
    "lgbm_params = {\n",
    "    \"max_depth\": 3,\n",
    "    \"min_child_samples\": 20,\n",
    "    \"n_estimators\": 1000,\n",
    "    \"learning_rate\": 9e-3,\n",
    "    \"colsample_bytree\": 0.6,\n",
    "    \"reg_lambda\": 0.3,\n",
    "    \"subsample\": 0.8,\n",
    "    \"subsample_freq\": 1,\n",
    "    \"scale_pos_weight\": pos_weight,\n",
    "}\n",
    "\n",
    "svc_params = {\n",
    "    \"probability\": True,\n",
    "    \"gamma\": 3e-2,\n",
    "    \"C\": 2.5,\n",
    "}\n",
    "\n",
    "catboost_params = {\n",
    "    \"silent\": True,\n",
    "    \"allow_writing_files\": False,\n",
    "    \"depth\": 4,\n",
    "    \"iterations\": 300,\n",
    "    \"learning_rate\": 3e-2,\n",
    "    \"subsample\": 0.7,\n",
    "    \"min_data_in_leaf\": 16,\n",
    "    \"grow_policy\": \"Depthwise\",\n",
    "    \"bootstrap_type\": \"Bernoulli\",\n",
    "}\n"
   ]
  },
  {
   "cell_type": "code",
   "execution_count": 77,
   "metadata": {},
   "outputs": [
    {
     "name": "stdout",
     "output_type": "stream",
     "text": [
      "\u001b[1m\u001b[37mHP: \u001b[1m\u001b[31m0.00630957344480193\n",
      "\n",
      "\u001b[1m\u001b[37mSeed: \u001b[1m\u001b[31m102 \u001b[1m\u001b[37m- \u001b[1m\u001b[37mInner CV Score: \u001b[1m\u001b[31m0.22842 ± 0.02101 \u001b[1m\u001b[37m- \u001b[1m\u001b[37mOuter CV Score: \u001b[1m\u001b[31m0.20645 ± 0.04677\n",
      "\u001b[1m\u001b[37mSeed: \u001b[1m\u001b[31m435 \u001b[1m\u001b[37m- \u001b[1m\u001b[37mInner CV Score: \u001b[1m\u001b[31m0.22025 ± 0.02331 \u001b[1m\u001b[37m- \u001b[1m\u001b[37mOuter CV Score: \u001b[1m\u001b[31m0.23255 ± 0.06585\n",
      "\u001b[1m\u001b[37mSeed: \u001b[1m\u001b[31m860 \u001b[1m\u001b[37m- \u001b[1m\u001b[37mInner CV Score: \u001b[1m\u001b[31m0.23880 ± 0.00572 \u001b[1m\u001b[37m- \u001b[1m\u001b[37mOuter CV Score: \u001b[1m\u001b[31m0.21369 ± 0.02964\n",
      "\u001b[1m\u001b[37mSeed: \u001b[1m\u001b[31m270 \u001b[1m\u001b[37m- \u001b[1m\u001b[37mInner CV Score: \u001b[1m\u001b[31m0.22894 ± 0.01657 \u001b[1m\u001b[37m- \u001b[1m\u001b[37mOuter CV Score: \u001b[1m\u001b[31m0.21145 ± 0.06909\n",
      "\u001b[1m\u001b[37mSeed: \u001b[1m\u001b[31m106 \u001b[1m\u001b[37m- \u001b[1m\u001b[37mInner CV Score: \u001b[1m\u001b[31m0.22338 ± 0.01503 \u001b[1m\u001b[37m- \u001b[1m\u001b[37mOuter CV Score: \u001b[1m\u001b[31m0.21598 ± 0.06587\n",
      "\u001b[1m\u001b[37mSeed: \u001b[1m\u001b[31m71  \u001b[1m\u001b[37m- \u001b[1m\u001b[37mInner CV Score: \u001b[1m\u001b[31m0.22734 ± 0.02906 \u001b[1m\u001b[37m- \u001b[1m\u001b[37mOuter CV Score: \u001b[1m\u001b[31m0.21008 ± 0.04744\n",
      "\u001b[1m\u001b[37mSeed: \u001b[1m\u001b[31m700 \u001b[1m\u001b[37m- \u001b[1m\u001b[37mInner CV Score: \u001b[1m\u001b[31m0.22404 ± 0.01374 \u001b[1m\u001b[37m- \u001b[1m\u001b[37mOuter CV Score: \u001b[1m\u001b[31m0.21976 ± 0.06810\n",
      "\u001b[1m\u001b[37mSeed: \u001b[1m\u001b[31m20  \u001b[1m\u001b[37m- \u001b[1m\u001b[37mInner CV Score: \u001b[1m\u001b[31m0.23557 ± 0.01057 \u001b[1m\u001b[37m- \u001b[1m\u001b[37mOuter CV Score: \u001b[1m\u001b[31m0.21279 ± 0.03891\n",
      "\u001b[1m\u001b[37mSeed: \u001b[1m\u001b[31m614 \u001b[1m\u001b[37m- \u001b[1m\u001b[37mInner CV Score: \u001b[1m\u001b[31m0.21958 ± 0.01856 \u001b[1m\u001b[37m- \u001b[1m\u001b[37mOuter CV Score: \u001b[1m\u001b[31m0.21794 ± 0.05838\n",
      "\u001b[1m\u001b[37mSeed: \u001b[1m\u001b[31m121 \u001b[1m\u001b[37m- \u001b[1m\u001b[37mInner CV Score: \u001b[1m\u001b[31m0.22976 ± 0.02500 \u001b[1m\u001b[37m- \u001b[1m\u001b[37mOuter CV Score: \u001b[1m\u001b[31m0.23226 ± 0.08202\n",
      "\u001b[1m\u001b[37m\n",
      "Average Inner CV Score: \u001b[1m\u001b[31m0.22761 ± 0.01994 \u001b[1m\u001b[37m- \u001b[1m\u001b[37mAverage Outer CV Score: \u001b[1m\u001b[31m0.21729 ± 0.05980\n",
      "\n"
     ]
    }
   ],
   "source": [
    "X = train.drop(\"Class\", axis=1)\n",
    "y = train.Class\n",
    "\n",
    "hyperparams = np.logspace(-2.2, -1.2, 1)\n",
    "hp_plot_inn, hp_plot_out = defaultdict(tuple), defaultdict(tuple)\n",
    "\n",
    "for hp in hyperparams:\n",
    "    print(CLR + \"HP:\", RED + f\"{hp}\\n\")\n",
    "    results_inn_over_seeds = np.zeros((n_seeds, n_folds), dtype=np.float64)\n",
    "    results_out_over_seeds = np.zeros((n_seeds, n_folds), dtype=np.float64)\n",
    "\n",
    "    for n_seed, seed in enumerate(seeds):\n",
    "        results_inn = np.empty(n_folds, dtype=np.float64)\n",
    "        results_out = np.empty(n_folds, dtype=np.float64)\n",
    "        skf_out = StratifiedKFold(n_splits=n_folds, shuffle=True, random_state=seed)\n",
    "        model_on_seed = make_pipeline(\n",
    "            preliminary_transform_preprocess,\n",
    "            FunctionTransformer(lambda X: X[relevant_variables]),\n",
    "            VotingClassifier(\n",
    "                [\n",
    "                    (\"lgbm\", LGBMClassifier(random_state=seed, **lgbm_params)),\n",
    "                    (\"xgb\", XGBClassifier(random_state=seed, **xgb_params)),\n",
    "                ],\n",
    "                voting=\"soft\",\n",
    "            ),\n",
    "        )\n",
    "\n",
    "        for k_out, (train_ids, valid_ids) in enumerate(skf_out.split(X, y)):\n",
    "            X_train_out, y_train_out = X.iloc[train_ids], y.iloc[train_ids]\n",
    "            X_valid_out, y_valid_out = X.iloc[valid_ids], y.iloc[valid_ids]\n",
    "            skf_inn = StratifiedKFold(n_splits=n_folds, shuffle=True, random_state=seed)\n",
    "            models_inn = np.empty(n_folds, dtype=object)\n",
    "            y_train_out_oof_proba = np.zeros_like(y_train_out, dtype=np.float64)\n",
    "\n",
    "            for k_inn, (train_ids, valid_ids) in enumerate(skf_inn.split(X_train_out, y_train_out)):\n",
    "                X_train_inn, y_train_inn = X_train_out.iloc[train_ids], y_train_out.iloc[train_ids]\n",
    "                X_valid_inn, y_valid_inn = X_train_out.iloc[valid_ids], y_train_out.iloc[valid_ids]\n",
    "\n",
    "                model_inn = clone(model_on_seed).fit(\n",
    "                    X_train_inn,\n",
    "                    y_train_inn,\n",
    "                    votingclassifier__sample_weight=get_sample_weights(y_train_inn),\n",
    "                )\n",
    "\n",
    "                y_train_out_oof_proba[valid_ids] = model_inn.predict_proba(X_valid_inn)[:, 1]\n",
    "                models_inn[k_inn] = model_inn\n",
    "\n",
    "            y_valid_out_proba = np.zeros_like(y_valid_out, dtype=np.float64)\n",
    "            for model_inn in models_inn:\n",
    "                y_valid_out_proba += model_inn.predict_proba(X_valid_out)[:, 1]\n",
    "\n",
    "            results_inn[k_out] = balanced_log_loss(y_train_out, y_train_out_oof_proba)\n",
    "            results_out[k_out] = balanced_log_loss(y_valid_out, y_valid_out_proba / len(models_inn))\n",
    "\n",
    "        results_inn_over_seeds[n_seed] = results_inn\n",
    "        results_out_over_seeds[n_seed] = results_out\n",
    "        print_seed_results(seed, results_inn, results_out)\n",
    "        \n",
    "    hp_plot_inn[hp] = (results_inn_over_seeds.mean(), results_inn_over_seeds.std())\n",
    "    hp_plot_out[hp] = (results_out_over_seeds.mean(), results_out_over_seeds.std())\n",
    "    print_average_results(results_inn_over_seeds, results_out_over_seeds)\n"
   ]
  },
  {
   "cell_type": "code",
   "execution_count": null,
   "metadata": {},
   "outputs": [],
   "source": [
    "# Ensemble: Average Inner CV Score: 0.22779 ± 0.01988 - Average Outer CV Score: 0.21690 ± 0.05921\n",
    "# LGBM:     Average Inner CV Score: 0.22419 ± 0.01809 - Average Outer CV Score: 0.21594 ± 0.05395\n",
    "# XGB:      Average Inner CV Score: 0.24249 ± 0.02462 - Average Outer CV Score: 0.22299 ± 0.06726\n",
    "# SVC:      Average Inner CV Score: 0.38676 ± 0.02981 - Average Outer CV Score: 0.35268 ± 0.07753\n",
    "# CATBOOST: Average Inner CV Score: 0.26948 ± 0.01835 - Average Outer CV Score: 0.26058 ± 0.05920"
   ]
  },
  {
   "cell_type": "code",
   "execution_count": null,
   "metadata": {},
   "outputs": [],
   "source": [
    "def get_relevant_variables(X_processed, y, seeds, xgb_params, lgbm_params, threshold=1.0):\n",
    "    X = X_processed.copy()\n",
    "\n",
    "    X[\"RANDOM_1\"] = np.random.normal(size=len(X))\n",
    "    X[\"RANDOM_2\"] = np.random.normal(size=len(X))\n",
    "    X[\"RANDOM_3\"] = np.random.normal(size=len(X))\n",
    "    X[\"RANDOM_4\"] = np.random.normal(size=len(X))\n",
    "    X[\"RANDOM_5\"] = np.random.normal(size=len(X))\n",
    "    X[\"RANDOM_6\"] = np.random.normal(size=len(X))\n",
    "    X[\"RANDOM_7\"] = np.random.normal(size=len(X))\n",
    "\n",
    "    feature_names = X.columns.to_list()\n",
    "    lgbm_results = pd.DataFrame(index=feature_names)\n",
    "    xgb_results = pd.DataFrame(index=feature_names)\n",
    "    # lr_results = pd.DataFrame(index=feature_names)\n",
    "\n",
    "    for seed in seeds:\n",
    "        lgbm = LGBMClassifier(random_state=seed, **lgbm_params).fit(X, y)\n",
    "        xgb = XGBClassifier(random_state=seed, **xgb_params).fit(X, y)\n",
    "        lr = LogisticRegression(\n",
    "            random_state=seed, penalty=\"l1\", solver=\"liblinear\", max_iter=1000\n",
    "        ).fit(X, y)\n",
    "\n",
    "        lgbm_results[seed] = pd.Series(lgbm.feature_importances_, index=feature_names)\n",
    "        xgb_results[seed] = pd.Series(xgb.feature_importances_, index=feature_names)\n",
    "        # lr_results[seed] = pd.Series(np.abs(lr.coef_[0]), index=feature_names)\n",
    "\n",
    "    relevant_variables = []\n",
    "\n",
    "    for df in (lgbm_results, xgb_results):\n",
    "        df[\"SUM\"] = df.sum(axis=1)\n",
    "        df.sort_values(by=\"SUM\", ascending=False, inplace=True)\n",
    "        highest_random_id = df[df.index.str.startswith(\"RANDOM\")].index[0]\n",
    "        value_at = df.loc[highest_random_id, \"SUM\"]  # type: ignore\n",
    "        relevant_vars = df.query(f\"SUM > {value_at * threshold}\").index.to_list()\n",
    "        relevant_variables.append(relevant_vars)\n",
    "\n",
    "    lgbm_vars, xgb_vars = relevant_variables\n",
    "    return list(set(lgbm_vars) & set(xgb_vars))  # & set(lr_vars))\n"
   ]
  },
  {
   "cell_type": "code",
   "execution_count": null,
   "metadata": {},
   "outputs": [],
   "source": [
    "np.random.seed(23)\n",
    "\n",
    "X = train.drop(\"Class\", axis=1)\n",
    "X_processed = preliminary_transform_preprocess.fit_transform(X)\n",
    "y = train.Class\n",
    "seeds = np.random.randint(0, 12345, size=100)\n",
    "\n",
    "get_relevant_variables(X_processed, y, seeds, xgb_params, lgbm_params)\n"
   ]
  },
  {
   "cell_type": "code",
   "execution_count": 15,
   "metadata": {},
   "outputs": [],
   "source": [
    "n_bags = 20\n",
    "n_folds = 5\n",
    "\n",
    "np.random.seed(0)\n",
    "seeds = np.random.randint(0, 1000, size=n_bags)\n"
   ]
  },
  {
   "cell_type": "code",
   "execution_count": 16,
   "metadata": {},
   "outputs": [
    {
     "name": "stdout",
     "output_type": "stream",
     "text": [
      "Balanced Log Loss: 0.19551\n"
     ]
    }
   ],
   "source": [
    "\n",
    "\n",
    "X = train.drop(\"Class\", axis=1)\n",
    "y = train.Class\n",
    "\n",
    "y_proba = np.zeros_like(y, dtype=np.float64)\n",
    "classifiers = defaultdict(object)\n",
    "\n",
    "for bag, seed in enumerate(seeds):\n",
    "    skfold = StratifiedKFold(n_splits=n_folds, shuffle=True, random_state=seed)\n",
    "\n",
    "    for fold, (train_ids, valid_ids) in enumerate(skfold.split(X, y)):\n",
    "        X_train, y_train = X.iloc[train_ids], y.iloc[train_ids]\n",
    "        X_valid, y_valid = X.iloc[valid_ids], y.iloc[valid_ids]\n",
    "\n",
    "        current_ensemble = make_pipeline(\n",
    "            preliminary_transform_preprocess,\n",
    "            FunctionTransformer(lambda X: X[relevant_variables]),\n",
    "            VotingClassifier(\n",
    "                [\n",
    "                    (\"lgbm\", LGBMClassifier(random_state=seed, bagging_seed=seed, **lgbm_params)),\n",
    "                    (\"xgb\", XGBClassifier(random_state=seed, **xgb_params)),\n",
    "                    #(\"svc\", SVC(random_state=seed, **svc_params)),\n",
    "                ],\n",
    "                voting=\"soft\",\n",
    "                #weights=(0.45, 0.45, 0.10),\n",
    "            )\n",
    "        ).fit(\n",
    "            X_train,\n",
    "            y_train,\n",
    "            votingclassifier__sample_weight=get_sample_weights(y_train),\n",
    "        )\n",
    "\n",
    "        y_proba[valid_ids] += current_ensemble.predict_proba(X_valid)[:, 1]\n",
    "        classifiers[f\"Voting Bag: {bag} Fold: {fold}\"] = current_ensemble\n",
    "\n",
    "y_proba_rescaled = y_proba / n_bags\n",
    "print(\"Balanced Log Loss:\", f\"{balanced_log_loss(y, y_proba_rescaled):.5f}\")\n"
   ]
  },
  {
   "cell_type": "code",
   "execution_count": 37,
   "metadata": {},
   "outputs": [
    {
     "name": "stdout",
     "output_type": "stream",
     "text": [
      "0.19326\n"
     ]
    }
   ],
   "source": [
    "y_postprocessed = perform_postprocessing(y_proba_rescaled, shifting=False, boosting_coef=1.3)\n",
    "print(f\"{balanced_log_loss(y, y_postprocessed):.5f}\")"
   ]
  },
  {
   "cell_type": "code",
   "execution_count": 69,
   "metadata": {},
   "outputs": [
    {
     "name": "stdout",
     "output_type": "stream",
     "text": [
      "0.19540\n"
     ]
    }
   ],
   "source": [
    "y_postprocessed = y_proba_rescaled ** 0.99\n",
    "print(f\"{balanced_log_loss(y, y_postprocessed):.5f}\")"
   ]
  },
  {
   "cell_type": "code",
   "execution_count": 40,
   "metadata": {},
   "outputs": [
    {
     "data": {
      "application/vnd.plotly.v1+json": {
       "config": {
        "plotlyServerURL": "https://plot.ly"
       },
       "data": [
        {
         "customdata": [
          [
           "007255e47698"
          ],
          [
           "013f2bd269f5"
          ],
          [
           "043ac50845d5"
          ],
          [
           "04517a3c90bd"
          ],
          [
           "049232ca8356"
          ],
          [
           "057287f2da6d"
          ],
          [
           "0594b00fb30a"
          ],
          [
           "05f2bc0155cd"
          ],
          [
           "06554e7b9979"
          ],
          [
           "068a4e4bbbab"
          ],
          [
           "075bd937ab85"
          ],
          [
           "07760b4cf3f8"
          ],
          [
           "094c0bd5ebe6"
          ],
          [
           "0aa059dad7f3"
          ],
          [
           "0b2cc0b0e6c5"
          ],
          [
           "0c3a256bcec7"
          ],
          [
           "0cdf781c81b9"
          ],
          [
           "0ce8b2aeeead"
          ],
          [
           "0cf19653f4c5"
          ],
          [
           "0cf6c827b8bb"
          ],
          [
           "0d1b855c7635"
          ],
          [
           "0d733722754b"
          ],
          [
           "0da59360d722"
          ],
          [
           "0db07bc343e3"
          ],
          [
           "0e17c8abe9b6"
          ],
          [
           "0e1f6a8eebab"
          ],
          [
           "0e705a0eddf6"
          ],
          [
           "0f9257f237b4"
          ],
          [
           "0fa0daef7ac0"
          ],
          [
           "10187958312d"
          ],
          [
           "1073082e7823"
          ],
          [
           "10aaf6adb652"
          ],
          [
           "10b874d01acd"
          ],
          [
           "1106df45b12e"
          ],
          [
           "124cd364aa2e"
          ],
          [
           "124eefa2ae00"
          ],
          [
           "128cc82dc5d6"
          ],
          [
           "12d002d52230"
          ],
          [
           "1319c3883fff"
          ],
          [
           "1337ba12ff02"
          ],
          [
           "135f1d1da85e"
          ],
          [
           "13ac854b5fe7"
          ],
          [
           "13c79963c34c"
          ],
          [
           "13ef6c55286a"
          ],
          [
           "1426f76716de"
          ],
          [
           "14713ec51d95"
          ],
          [
           "14a3f3cc04bd"
          ],
          [
           "152979207440"
          ],
          [
           "1540bbf8825b"
          ],
          [
           "157861ebc981"
          ],
          [
           "1591cd66c34e"
          ],
          [
           "15d85eea0e11"
          ],
          [
           "174ba5dc00b1"
          ],
          [
           "17d49f84524b"
          ],
          [
           "17d9a3a45da4"
          ],
          [
           "1899e6e0d7d9"
          ],
          [
           "18dd7c934463"
          ],
          [
           "1900828cbfc4"
          ],
          [
           "1919e4c3a7cc"
          ],
          [
           "19bf6e929506"
          ],
          [
           "19e4c52ea251"
          ],
          [
           "1a14973e1785"
          ],
          [
           "1a6d2336590f"
          ],
          [
           "1a954a747373"
          ],
          [
           "1a9fecf65695"
          ],
          [
           "1b31df9e8971"
          ],
          [
           "1c004f1d37be"
          ],
          [
           "1c612f931833"
          ],
          [
           "1e3c4189f04b"
          ],
          [
           "1e4b78cada73"
          ],
          [
           "1e5e59a7f331"
          ],
          [
           "1f829da7c6ed"
          ],
          [
           "20731b639de9"
          ],
          [
           "211b95ea8f90"
          ],
          [
           "21b3d18c0340"
          ],
          [
           "21d33a9fee44"
          ],
          [
           "23ab7ab965d5"
          ],
          [
           "2449608e49a9"
          ],
          [
           "2471b27e99fc"
          ],
          [
           "24dfe3da6769"
          ],
          [
           "271737344017"
          ],
          [
           "273efaff6f8a"
          ],
          [
           "27bfa971821f"
          ],
          [
           "284efb30decc"
          ],
          [
           "28ade6fa7bc3"
          ],
          [
           "2901ef1394b9"
          ],
          [
           "298989cc4e92"
          ],
          [
           "29cba3a7b8dc"
          ],
          [
           "2bb2902bd5e1"
          ],
          [
           "2bd50291b64d"
          ],
          [
           "2c495dfbaacf"
          ],
          [
           "2ca6bdf04280"
          ],
          [
           "2d5d2874b058"
          ],
          [
           "2d7ba928287d"
          ],
          [
           "2dc8b3d2980b"
          ],
          [
           "2e03488a03ca"
          ],
          [
           "2e4e80b95e24"
          ],
          [
           "2e637b444de7"
          ],
          [
           "2f020a35ce2b"
          ],
          [
           "2f1e32eac20e"
          ],
          [
           "2fd659800f75"
          ],
          [
           "30202b353d8a"
          ],
          [
           "3026974712cd"
          ],
          [
           "3101fca6b743"
          ],
          [
           "312661adb2ff"
          ],
          [
           "319f7e210021"
          ],
          [
           "321f58c2e5d1"
          ],
          [
           "324d6f4b6b37"
          ],
          [
           "332a3850302f"
          ],
          [
           "333bff494437"
          ],
          [
           "3493c79c8f35"
          ],
          [
           "34dc3190c6fb"
          ],
          [
           "34f10f630b68"
          ],
          [
           "3581cb92b427"
          ],
          [
           "36d298d32eb9"
          ],
          [
           "36f2fbc0a810"
          ],
          [
           "37342e4943f2"
          ],
          [
           "381e08d38c92"
          ],
          [
           "381ff0376cb0"
          ],
          [
           "38325b0c36e5"
          ],
          [
           "3840054e6aa5"
          ],
          [
           "386a027efe36"
          ],
          [
           "38c9a1f2eacf"
          ],
          [
           "3a73fce81608"
          ],
          [
           "3b280978a051"
          ],
          [
           "3b8959ffdfa9"
          ],
          [
           "3bf81aff9bd6"
          ],
          [
           "3c299fce6b56"
          ],
          [
           "3d4109150b32"
          ],
          [
           "3db179cf1a7d"
          ],
          [
           "3e610a5ff8d1"
          ],
          [
           "3eb3be63b62c"
          ],
          [
           "3f004b7190f3"
          ],
          [
           "3f367f9652ff"
          ],
          [
           "3fad66987cf9"
          ],
          [
           "407436e7ec52"
          ],
          [
           "40ffdee110b8"
          ],
          [
           "41475fa34ab3"
          ],
          [
           "41698cf1a1bd"
          ],
          [
           "41e9e3cec765"
          ],
          [
           "431c73b16f33"
          ],
          [
           "43365f867d38"
          ],
          [
           "434b3925094e"
          ],
          [
           "4376800c31fd"
          ],
          [
           "43eab2b837d1"
          ],
          [
           "4401d2485580"
          ],
          [
           "44c7768642a7"
          ],
          [
           "44e759955f6e"
          ],
          [
           "4537a9a3ecde"
          ],
          [
           "4572189340c4"
          ],
          [
           "457d8d386eb2"
          ],
          [
           "459c432b15ae"
          ],
          [
           "4652c8c5705c"
          ],
          [
           "4671650635ab"
          ],
          [
           "46a2c24d2624"
          ],
          [
           "46b876fc8933"
          ],
          [
           "470d18ff7777"
          ],
          [
           "47d8bacb43bb"
          ],
          [
           "48485c8c1ef7"
          ],
          [
           "48c64ab517c9"
          ],
          [
           "48f422645d0e"
          ],
          [
           "49e14acf8ffb"
          ],
          [
           "4a3d7459976a"
          ],
          [
           "4bc8f3ea493a"
          ],
          [
           "4c92a971cf91"
          ],
          [
           "4d4e63393080"
          ],
          [
           "4d54e3a957e6"
          ],
          [
           "4e6477903aa3"
          ],
          [
           "4e9059199e3d"
          ],
          [
           "4ec197e84caf"
          ],
          [
           "4f17ecd66363"
          ],
          [
           "4feabef01f7a"
          ],
          [
           "4fef9a973791"
          ],
          [
           "4ff6c37484ee"
          ],
          [
           "50183292c0e7"
          ],
          [
           "508bb5c5cf00"
          ],
          [
           "51111505c6f2"
          ],
          [
           "514d2ac4fdb5"
          ],
          [
           "51a5b926ab4d"
          ],
          [
           "528dd2afeb79"
          ],
          [
           "52acfa7cc2fc"
          ],
          [
           "53468141b7c9"
          ],
          [
           "535a9e672d18"
          ],
          [
           "55122c3c02a0"
          ],
          [
           "571a56646e47"
          ],
          [
           "58843604dcb5"
          ],
          [
           "58dcdd9d6e89"
          ],
          [
           "58e74efe7aa5"
          ],
          [
           "59bf633c1018"
          ],
          [
           "59bf79fac3fa"
          ],
          [
           "59bfbb4ad480"
          ],
          [
           "59eb23495fa7"
          ],
          [
           "5a87a6061488"
          ],
          [
           "5c03d177da66"
          ],
          [
           "5c522f58308c"
          ],
          [
           "5ce5f23fff0d"
          ],
          [
           "5d547eb551a9"
          ],
          [
           "5d8a1a0fb062"
          ],
          [
           "5dc5360a3fc8"
          ],
          [
           "5e27b0147126"
          ],
          [
           "5ee622a3e3be"
          ],
          [
           "5f20ad0ec630"
          ],
          [
           "60013ee40a0a"
          ],
          [
           "6002d5f39711"
          ],
          [
           "600c445d3351"
          ],
          [
           "60474d8ff770"
          ],
          [
           "6192b3e210ae"
          ],
          [
           "619aac34f423"
          ],
          [
           "61af8fde49eb"
          ],
          [
           "61e882a215f4"
          ],
          [
           "6204fd873dcd"
          ],
          [
           "62176aa5de57"
          ],
          [
           "6487b5140ab2"
          ],
          [
           "657d27cacf2b"
          ],
          [
           "658e0b2992bb"
          ],
          [
           "65c5772a4afa"
          ],
          [
           "65de682cc48c"
          ],
          [
           "661b3a326a9d"
          ],
          [
           "670b295eaa0f"
          ],
          [
           "67ba3c5d8baf"
          ],
          [
           "684d62aeae9e"
          ],
          [
           "6850ef5b0092"
          ],
          [
           "6860e7cbccad"
          ],
          [
           "68918798c769"
          ],
          [
           "68c35486588c"
          ],
          [
           "6955c8adcd36"
          ],
          [
           "69de76778344"
          ],
          [
           "69e627ec5d3e"
          ],
          [
           "6bf666677588"
          ],
          [
           "6c231f862f11"
          ],
          [
           "6c679dc63744"
          ],
          [
           "6c6db7987cd5"
          ],
          [
           "6ed97ed5defe"
          ],
          [
           "6ef1fe86ad00"
          ],
          [
           "7017fab77607"
          ],
          [
           "703c183d0c6c"
          ],
          [
           "70926a82d4e1"
          ],
          [
           "7180e4b7d21a"
          ],
          [
           "71f07ea5a770"
          ],
          [
           "73468ffe1cb5"
          ],
          [
           "7392d21fc103"
          ],
          [
           "7416fea10b6b"
          ],
          [
           "7429ed35535c"
          ],
          [
           "7530ec447c5d"
          ],
          [
           "778e1213d462"
          ],
          [
           "77ccceb44f4e"
          ],
          [
           "7800130b9140"
          ],
          [
           "7804b14ee22b"
          ],
          [
           "78f3ccd568c6"
          ],
          [
           "793d5c26bd0e"
          ],
          [
           "7a5c4b008308"
          ],
          [
           "7a705feced42"
          ],
          [
           "7b8cda4bc33e"
          ],
          [
           "7bcb9a31014b"
          ],
          [
           "7c02caf1b94f"
          ],
          [
           "7c21c57859d6"
          ],
          [
           "7c2df9f2fbe2"
          ],
          [
           "7cc870296984"
          ],
          [
           "7dd96a41647c"
          ],
          [
           "7e4d70590a71"
          ],
          [
           "7eb06d1c9234"
          ],
          [
           "7feabcc65b6b"
          ],
          [
           "800440b155b1"
          ],
          [
           "8006877fc82a"
          ],
          [
           "800c6b3239c6"
          ],
          [
           "80348b62c82e"
          ],
          [
           "80841417ca53"
          ],
          [
           "809087be105e"
          ],
          [
           "8093b3b92b28"
          ],
          [
           "80c47659c7c6"
          ],
          [
           "80ee5615ebdf"
          ],
          [
           "810ff5afd0e2"
          ],
          [
           "815cc64eb1cc"
          ],
          [
           "8266debd5234"
          ],
          [
           "8296caddae14"
          ],
          [
           "82c5014b0d57"
          ],
          [
           "8353e4690948"
          ],
          [
           "8408bf4d3d2f"
          ],
          [
           "8457871d9624"
          ],
          [
           "84c5b2d3eace"
          ],
          [
           "84efa38972ba"
          ],
          [
           "860833bfe713"
          ],
          [
           "8767b93c7948"
          ],
          [
           "87f6d81bb2f7"
          ],
          [
           "8856a9d8e2b4"
          ],
          [
           "88ceb24fa799"
          ],
          [
           "894a982c52c1"
          ],
          [
           "8a3cb69b2242"
          ],
          [
           "8a3e1acd2ff2"
          ],
          [
           "8ae3966cdb92"
          ],
          [
           "8b4dfe76ff44"
          ],
          [
           "8b7131974251"
          ],
          [
           "8b77f91fde3e"
          ],
          [
           "8b866016ac44"
          ],
          [
           "8b9d72eec14e"
          ],
          [
           "8ba2487388f2"
          ],
          [
           "8bb44f5c60a4"
          ],
          [
           "8c58bec30f78"
          ],
          [
           "8d0d4a6510bf"
          ],
          [
           "8d505de1fa59"
          ],
          [
           "8d7e1ef24fb8"
          ],
          [
           "8d7f231c9cb7"
          ],
          [
           "8e22648bf996"
          ],
          [
           "8e35c5943760"
          ],
          [
           "8e5a0d625d98"
          ],
          [
           "8eefb589a7aa"
          ],
          [
           "8f411ab61450"
          ],
          [
           "9025eee0ab7d"
          ],
          [
           "905a7dbaaf9a"
          ],
          [
           "91004fe0a0fd"
          ],
          [
           "91275f6ae0a2"
          ],
          [
           "913a3374da32"
          ],
          [
           "913b30965ae1"
          ],
          [
           "92b3778f624f"
          ],
          [
           "93205d43a401"
          ],
          [
           "948043d08210"
          ],
          [
           "948b3f28db47"
          ],
          [
           "948e868ba395"
          ],
          [
           "94f28a9c879b"
          ],
          [
           "968491b9238f"
          ],
          [
           "96ee4e851fbd"
          ],
          [
           "9708ba6b2fa2"
          ],
          [
           "975235e7d941"
          ],
          [
           "97b6c7088bc6"
          ],
          [
           "98944bb311a4"
          ],
          [
           "991587f97e45"
          ],
          [
           "9949a1749e2c"
          ],
          [
           "9a3ec17a57a0"
          ],
          [
           "9b25a5047a23"
          ],
          [
           "9b6aeb66b22a"
          ],
          [
           "9b9e6e21b830"
          ],
          [
           "9ba8bfa26e8a"
          ],
          [
           "9c0f8307a7ec"
          ],
          [
           "9c43f9559e4c"
          ],
          [
           "9c8d738c0272"
          ],
          [
           "9ce745fc98c4"
          ],
          [
           "9d19cb5327b5"
          ],
          [
           "9e725e00b348"
          ],
          [
           "9ee887ad93d5"
          ],
          [
           "9f10f72ca154"
          ],
          [
           "a02d41dc2cc4"
          ],
          [
           "a0693256491d"
          ],
          [
           "a20c68851e9b"
          ],
          [
           "a3493d6aca6e"
          ],
          [
           "a46b439e1eac"
          ],
          [
           "a4f476550c49"
          ],
          [
           "a5faa9a52bcb"
          ],
          [
           "a633a258eeed"
          ],
          [
           "a7b1c7b83f53"
          ],
          [
           "a904c19b5e22"
          ],
          [
           "aa54a308dbb4"
          ],
          [
           "aa6c6160804f"
          ],
          [
           "aa8185fbee33"
          ],
          [
           "aac8bafe74ef"
          ],
          [
           "ab39fd701211"
          ],
          [
           "ab4bc55cb79e"
          ],
          [
           "ac2074c4eeb5"
          ],
          [
           "acd97f3380e4"
          ],
          [
           "ad9a26b80957"
          ],
          [
           "adb67a0dd661"
          ],
          [
           "add78517b003"
          ],
          [
           "aee064d35f72"
          ],
          [
           "af0802c15f01"
          ],
          [
           "af1a304f3c89"
          ],
          [
           "af2c482fb8d7"
          ],
          [
           "afad421356e3"
          ],
          [
           "b002a6adb6be"
          ],
          [
           "b06b043e7abe"
          ],
          [
           "b1056bf99b86"
          ],
          [
           "b1080294e1f2"
          ],
          [
           "b10bae274dfc"
          ],
          [
           "b10f6f101138"
          ],
          [
           "b1143beb212d"
          ],
          [
           "b1195f8f1afa"
          ],
          [
           "b22ebf6851bb"
          ],
          [
           "b231b1b0962c"
          ],
          [
           "b2aec42acb00"
          ],
          [
           "b2b3ec04caf6"
          ],
          [
           "b301f38c110c"
          ],
          [
           "b358f0fdb95b"
          ],
          [
           "b3807c5f43e8"
          ],
          [
           "b4d611fab6c5"
          ],
          [
           "b5b51b3db693"
          ],
          [
           "b6efe1e60280"
          ],
          [
           "b74762c1d521"
          ],
          [
           "b85846bebd78"
          ],
          [
           "b874e25c20aa"
          ],
          [
           "b90c555e8c3c"
          ],
          [
           "b9e388b48268"
          ],
          [
           "ba0c42e12f1f"
          ],
          [
           "bbbb36522060"
          ],
          [
           "bbc27c1326a5"
          ],
          [
           "bcc36efe8096"
          ],
          [
           "bdd7b0f36488"
          ],
          [
           "be0d0e810303"
          ],
          [
           "bf12446bf394"
          ],
          [
           "bfcbf52e5449"
          ],
          [
           "c1ffde2da7d9"
          ],
          [
           "c214d487e2db"
          ],
          [
           "c25704512231"
          ],
          [
           "c38cbd7f61dd"
          ],
          [
           "c49cbf1cac11"
          ],
          [
           "c556791ceee9"
          ],
          [
           "c5e5456ccaa2"
          ],
          [
           "c5f4346394b9"
          ],
          [
           "c60e0e7b6ca1"
          ],
          [
           "c6c3a77ec885"
          ],
          [
           "c82e5a429e5b"
          ],
          [
           "c86be787cb28"
          ],
          [
           "c8a5264f7458"
          ],
          [
           "c90977976ffe"
          ],
          [
           "c9e8391da0ea"
          ],
          [
           "ca3ae6c8dede"
          ],
          [
           "ca4b0957e0c8"
          ],
          [
           "caff00fb82e2"
          ],
          [
           "cc42ed28ac3f"
          ],
          [
           "cc9f47d89979"
          ],
          [
           "ccd8b4b583df"
          ],
          [
           "cd5d5458c163"
          ],
          [
           "ce42176962b9"
          ],
          [
           "cf81f032b88e"
          ],
          [
           "d00b37ba63e7"
          ],
          [
           "d02c11462079"
          ],
          [
           "d061b54c6650"
          ],
          [
           "d0b72acaecdd"
          ],
          [
           "d10976c44b2b"
          ],
          [
           "d1f14dbe348c"
          ],
          [
           "d1fa22631c9c"
          ],
          [
           "d2910aee04cd"
          ],
          [
           "d2960230a353"
          ],
          [
           "d2dd462f90b5"
          ],
          [
           "d32f445d4d75"
          ],
          [
           "d35148a64ca9"
          ],
          [
           "d3d8c9d232f1"
          ],
          [
           "d42783629bbc"
          ],
          [
           "d44d3320d240"
          ],
          [
           "d5463b93905d"
          ],
          [
           "d7353855bf36"
          ],
          [
           "d75aafac1e86"
          ],
          [
           "d7dbf59b37f9"
          ],
          [
           "d7f01114e6db"
          ],
          [
           "d9d5fdfa030c"
          ],
          [
           "da68b4918818"
          ],
          [
           "da6c7e4e124d"
          ],
          [
           "dbf5f8b82b43"
          ],
          [
           "dc9b175cbf1e"
          ],
          [
           "dd3515028d71"
          ],
          [
           "dd65e067165c"
          ],
          [
           "dd8bcfab8df9"
          ],
          [
           "df956c379776"
          ],
          [
           "e00086407736"
          ],
          [
           "e0bf5a4a77d2"
          ],
          [
           "e0f325c4df28"
          ],
          [
           "e15ae7d5194f"
          ],
          [
           "e18129dade8f"
          ],
          [
           "e235af39779b"
          ],
          [
           "e2ef2a51ed65"
          ],
          [
           "e42344ea440c"
          ],
          [
           "e4ba2e28e184"
          ],
          [
           "e6aa6fa49abd"
          ],
          [
           "e70889ea6013"
          ],
          [
           "e70b5934b571"
          ],
          [
           "e7bedc8fb9a5"
          ],
          [
           "e8c119eb3e16"
          ],
          [
           "e8dde9331551"
          ],
          [
           "e9417cc82b93"
          ],
          [
           "e999bb1c01d7"
          ],
          [
           "e9c343dc7736"
          ],
          [
           "e9d084428900"
          ],
          [
           "ea50b3c5bd63"
          ],
          [
           "eada36b0bf31"
          ],
          [
           "eb9c2a590373"
          ],
          [
           "ecf1ac3d6dfc"
          ],
          [
           "ed4a24c7ec54"
          ],
          [
           "ee48d4f9dc81"
          ],
          [
           "efcba7fac353"
          ],
          [
           "f003d68995be"
          ],
          [
           "f03b541de10c"
          ],
          [
           "f0d7d98bfe21"
          ],
          [
           "f12d8570682a"
          ],
          [
           "f13b1485ba1f"
          ],
          [
           "f1a68746ca6e"
          ],
          [
           "f206becd4ffd"
          ],
          [
           "f3eb9ac222f9"
          ],
          [
           "f3f2071d2453"
          ],
          [
           "f404680da866"
          ],
          [
           "f44978084805"
          ],
          [
           "f46e39a96ee9"
          ],
          [
           "f56e7620836e"
          ],
          [
           "f62ef7cc0a22"
          ],
          [
           "f71ef203fae7"
          ],
          [
           "f7a862a414de"
          ],
          [
           "f82b07dfd7fb"
          ],
          [
           "f8eb43047d69"
          ],
          [
           "f944d35cb6c4"
          ],
          [
           "f955c0ed8895"
          ],
          [
           "f96e7ca4a16c"
          ],
          [
           "f9a7ea889307"
          ],
          [
           "fb27f6e58eaa"
          ],
          [
           "fb7584f887fd"
          ],
          [
           "fb786fb02a65"
          ],
          [
           "fbc241daef00"
          ],
          [
           "fbd12c4ae88b"
          ],
          [
           "fd1dd68d51b4"
          ],
          [
           "fd3dafe738fd"
          ],
          [
           "fd895603f071"
          ],
          [
           "fd8ef6377f76"
          ],
          [
           "fe1942975e40"
          ],
          [
           "ffcca4ded3bb"
          ]
         ],
         "hovertemplate": "Class=0<br>Positive Class Probability=%{x}<br>Sample Integer Index=%{y}<br>Id=%{customdata[0]}<extra></extra>",
         "legendgroup": "0",
         "marker": {
          "color": "#010D36",
          "opacity": 0.6,
          "size": 6,
          "symbol": "diamond"
         },
         "mode": "markers",
         "name": "0",
         "orientation": "v",
         "showlegend": true,
         "type": "scatter",
         "x": [
          0.005949455084955745,
          0.10046838436454035,
          0.4922694071650101,
          0.002449133116827942,
          0.008361160200324458,
          0.046088219983445027,
          0.01021489037854065,
          0.01204916960024137,
          0.01045882992322063,
          0.025538723552322423,
          0.15028451167268989,
          0.1642582041129963,
          0.010911771935969723,
          0.049474444147774174,
          0.10216023800559697,
          0.005195892543482993,
          0.1421772690141369,
          0.08408790537514757,
          0.022438354607833885,
          0.03047322254330661,
          0.17149099848798793,
          0.02471160311556188,
          0.6789130637449272,
          0.00036695069758618457,
          0.0108265329984002,
          0.01308905939290465,
          0.06998805091423169,
          0.002756923597127499,
          0.053877870461611355,
          0.001145070932758604,
          0.0005054446169675561,
          0.0019287625389697778,
          0.019019280897881477,
          0.006324403917926963,
          0.0062061319628403415,
          0.03539289495312679,
          0.009435331846797804,
          0.2519653101479935,
          0.014054199712358228,
          0.0027918602493740797,
          0.21599946874865425,
          0.0051790438210478715,
          0.09763522411257539,
          0.4780555323773328,
          0.010283726347314167,
          0.01449597460740345,
          0.6806663062490503,
          0.1717991911867347,
          0.002376996306106044,
          0.017395135047301044,
          0.008211501448562874,
          0.003777119324048137,
          0.10968617444968609,
          0.0361260370902651,
          0.01888522964920988,
          0.065252446797982,
          0.01902234730846427,
          0.0880550095815623,
          0.352064933649693,
          0.014886569504661443,
          0.006331162436047845,
          0.014980287041729667,
          0.2668268803325123,
          0.407176816676697,
          0.22080409052081232,
          0.00038255543690325964,
          0.016721661826131887,
          0.26411341932792787,
          0.11060119807980542,
          0.009830937874597743,
          0.0021958667923546236,
          0.01400612401946202,
          0.0006700505853943145,
          0.0023247162545664037,
          0.006546941245846968,
          0.03555182911615852,
          0.0018542402267579597,
          0.0008849999397373892,
          0.045132436016533745,
          0.009938282404018613,
          0.1395597406044489,
          0.009503389948681237,
          0.010371822037795946,
          0.007731594091716898,
          0.17942116702999372,
          0.9793062885804747,
          0.00913798892186637,
          0.04335057532515978,
          0.007129970472190444,
          0.002009186113122341,
          0.026839973425574322,
          0.06332870894301418,
          0.019683532573594904,
          0.06400197860888461,
          0.013782720732107021,
          0.0010114110952013906,
          0.0015142168100026492,
          0.09976400004152686,
          0.12150118616777554,
          0.006447968143795875,
          0.0218784435049388,
          0.0803847350490723,
          0.2947137805924785,
          0.004322539645056347,
          0.7006872642016857,
          0.0535499303717787,
          0.08057434507428538,
          0.011021344895678544,
          0.06846945091207837,
          0.004574211452522513,
          0.14387359411856185,
          0.1903215110342486,
          0.0011336081410498096,
          0.03804524627683684,
          0.01121037779889477,
          0.06053858705623645,
          0.5679782097376684,
          0.013982696485784384,
          0.0056459904480019845,
          0.012102017776173918,
          0.019466824061880432,
          0.06337081500966608,
          0.000642508958909282,
          0.005711832711666726,
          0.02053516891963425,
          0.04106980706476112,
          0.009908464108159747,
          0.0033382898815221816,
          0.17977720899717592,
          0.0015886311896490101,
          0.13632515969722728,
          0.0007694328573667459,
          0.3804148253619185,
          0.11202506353536731,
          0.024686871602618652,
          0.01391338822433453,
          0.004831134335056138,
          0.04420414363571869,
          0.7646387504026262,
          0.03966828204657198,
          0.0019266832496260867,
          0.5488914792397968,
          0.06091066333690731,
          0.0019728330462707574,
          0.026969301877894775,
          0.05530276887804304,
          0.0003266663214788329,
          0.008278830506152716,
          0.026153672279708533,
          0.03576362868654834,
          0.024990677107700136,
          0.0066917480750847275,
          0.0004459348869492618,
          0.8002933997116465,
          0.014481364058095813,
          0.12834413499265973,
          0.001782422022998833,
          0.0013836505390704896,
          0.719964906579915,
          0.2106654469408717,
          0.000880391591625573,
          0.5878919269306621,
          0.7379919515978621,
          0.4810484680134272,
          0.0786793170805764,
          0.0004920419065432794,
          0.1771653579461996,
          0.018559218547119817,
          0.023291594341863488,
          0.15634743181359528,
          0.3741940566375768,
          0.07679829126992241,
          0.0007558410266711075,
          0.10126275204346805,
          0.012264789047206712,
          0.005197295658397679,
          0.0170427530220389,
          0.0016199316724984515,
          0.15399087113275214,
          0.0027553920023055283,
          0.021524736318958872,
          0.002903853456322645,
          0.009770631750982728,
          0.09675469126947542,
          0.7348376224478804,
          0.006559578525297647,
          0.5627116487562343,
          0.0329914586837842,
          0.004063807369198589,
          0.00041696494250357115,
          0.011956699877917613,
          0.01863211749297327,
          0.17125961268784223,
          0.03044335525348737,
          0.0055187004860474415,
          0.06690999256141171,
          0.9764293262551501,
          0.08765128677076232,
          0.006699584883898399,
          0.026645287987454358,
          0.03455522964051639,
          0.0024207531877961912,
          0.006915461862348463,
          0.03389194690796823,
          0.004437840511337351,
          0.6545471625581576,
          0.015448348321287674,
          0.40929402244531865,
          0.006065468853697905,
          0.021125467067039935,
          0.004216151847966656,
          0.0872445440232935,
          0.0022101323196958476,
          0.019126386635397043,
          0.002526055597921035,
          0.008601767177577619,
          0.00415127668304201,
          0.004986011988254197,
          0.029937627622759127,
          0.00768987929571599,
          0.05813178517333586,
          0.09992783579699337,
          0.05809495933720753,
          0.0005145629723302942,
          0.0008083400394087472,
          0.0011225816559167399,
          0.024373966959432485,
          0.18877353711131312,
          0.3281663184871555,
          0.19716797305380554,
          0.015258759911334524,
          0.03613300546223873,
          0.1312523424210673,
          0.038904944492196905,
          0.006927256120196751,
          0.3070630594124224,
          0.009537069407559185,
          0.09647761170710584,
          0.456545287051776,
          0.04777223351021835,
          0.0008415402411475692,
          0.9760548103961053,
          0.00047488912236805843,
          0.4144646952465261,
          0.01332789174729133,
          0.03454842461129619,
          0.024685327835497258,
          0.1169485551832139,
          0.011017183283984813,
          0.01679526537826571,
          0.06103048008767455,
          0.004254706605419231,
          0.1994745726013079,
          0.015723407374051184,
          0.01225414736835213,
          0.0009479634299135488,
          0.00023452972776581184,
          0.22144926731190845,
          0.31793275280485994,
          0.14464070874864293,
          0.00975454340692354,
          0.007118301911015794,
          0.022019249060267667,
          0.024409703950316653,
          0.3661150082983069,
          0.3653711522201609,
          0.7915430058519508,
          0.028440549167720174,
          0.02277812450799494,
          0.000549962415651615,
          0.011466561514256363,
          0.2854304456793766,
          0.004318612899632981,
          0.005098153966650069,
          0.3702336909957565,
          0.015484931071920786,
          0.0806741860319158,
          0.7881185299708978,
          0.09010350298968722,
          0.007874137104263802,
          0.39946293555495804,
          0.008647051292444632,
          0.007859027081552141,
          0.008310354128230061,
          0.009353008409371696,
          0.07088789767950802,
          0.0017520614828156838,
          0.004030390689621932,
          0.032116285696664214,
          0.014818525512819297,
          0.08341123728462112,
          0.011472914742214497,
          0.2647210897955577,
          0.0077520053351825685,
          0.7260541240894336,
          0.023886793034618246,
          0.010577390917077736,
          0.3099380402938576,
          0.031912408548458136,
          0.06375432322113211,
          0.06474641682181281,
          0.012051174005569248,
          0.01992829250902129,
          0.05784629184989688,
          0.9088791925695924,
          0.03321894734647954,
          0.08908889901957708,
          0.5537731958592513,
          0.007381122729925707,
          0.013710174198705526,
          0.06498737275205722,
          0.01717454129092681,
          0.018910722329784867,
          0.02188284078386376,
          0.8305610427041442,
          0.007564806301794095,
          0.029366067747353557,
          0.012568418123638042,
          0.0013886856521301008,
          0.13943426727686076,
          0.5211785543258232,
          0.36171314335029714,
          0.030988145286414765,
          0.14359924505333863,
          0.035261598537766906,
          0.006519756247678485,
          0.020336489685896596,
          0.06608434223115196,
          0.037238616426856476,
          0.0028061637503280354,
          0.021836839524122086,
          0.07293220899524727,
          0.09497322693295296,
          0.029702398000259173,
          0.01901322138573755,
          0.04904290731874977,
          0.0137450474567542,
          0.025940148980072943,
          0.10109207713103274,
          0.26874193007891856,
          0.07923148415259018,
          0.00046645503586087086,
          0.036684890692096864,
          0.003930404899140473,
          0.1367430723617063,
          0.35659944840696306,
          0.007571553691022102,
          0.000947010664472008,
          0.03935139048126424,
          0.006504486144177098,
          0.23706237393059496,
          0.3012775538555016,
          0.007522394644349733,
          0.006476815424541388,
          0.0037526092674061255,
          0.039730927603695114,
          0.013657864702180788,
          0.016238789047089645,
          0.007063252024883647,
          0.0033595090810806375,
          0.015900409313580038,
          0.004069616473161317,
          0.19306882443534062,
          0.00580796700108698,
          0.004821572375122025,
          0.0020125679513959675,
          0.3531620451143702,
          0.3660749889023339,
          0.030634709676936593,
          0.002904741616136363,
          0.018112312676179795,
          0.028672862493133017,
          0.04484400177180205,
          0.06302913903389301,
          0.0012830076324235802,
          0.0005881767494069787,
          0.22248541295338478,
          0.009724612323937527,
          0.7287277360462031,
          0.670501173245992,
          0.011233873270374646,
          0.0004397900885463932,
          0.007803043644959068,
          0.9485622704813356,
          0.001602938136320799,
          0.0041183530857331115,
          0.000355061252845164,
          0.25235138078290437,
          0.8406304697687343,
          0.21644157958783858,
          0.010342225803844357,
          0.043377757852048296,
          0.056910923676925386,
          0.0018823216316585529,
          0.07934187983045352,
          0.009604266774315227,
          0.0002624948076349589,
          0.03522605931092786,
          0.012169221983261437,
          0.21947173198858788,
          0.014055017651282082,
          0.06076052693170377,
          0.0071564941239826135,
          0.0007621731500242239,
          0.3773129611638242,
          0.008039064438830925,
          0.4059093834053754,
          0.0008784596001611565,
          0.047385107339573476,
          0.05790053032575156,
          0.8973499723917231,
          0.0061239091253957245,
          0.02712474352954084,
          0.0022760419575186446,
          0.2884701231211881,
          0.012149883106526089,
          0.0077633224843692535,
          0.06007180489962109,
          0.004722224141973777,
          0.002058498289071372,
          0.053117683685565756,
          0.0020919903661904054,
          0.11901429262593602,
          0.6209255895174339,
          0.013059450262909935,
          0.023742583375628675,
          0.0024030122114211405,
          0.014387196746414938,
          0.4294607029661573,
          0.016706936200126365,
          0.3891843804265597,
          0.005230288230398676,
          0.05283081447990351,
          0.6764819944012712,
          0.002275416784601668,
          0.042962499997175704,
          0.09111695680002226,
          0.020532477705713807,
          0.14422994201741252,
          0.0022952689897926763,
          0.016722506452211093,
          0.038972877642288475,
          0.012463473565506871,
          0.0045018579498949714,
          0.05534355670570813,
          0.013831556531788549,
          0.02773707674778511,
          0.013902702892778535,
          0.1804122188793162,
          0.059714893149268346,
          0.07919609602248423,
          0.0034816226287194716,
          0.00045410724808297537,
          0.0037196452378678918,
          0.6994640371065054,
          0.006654553793513989,
          0.8379840795256055,
          0.0009184673734842625,
          0.01608657736344598,
          0.00466040762138557,
          0.0013274063201366704,
          0.035470947221393434,
          0.018428955043178985,
          0.0015839336519472475,
          0.03160405072903951,
          0.06634366791010923,
          0.0282596902222171,
          0.08280729754199145,
          0.06429428032538306,
          0.0017743290551239031,
          0.04861936381162929,
          0.14726958247039404,
          0.14236750554544064,
          0.04043448832147844,
          0.008122759022551995,
          0.062573655965473,
          0.16341347491916558,
          0.8184445331907686,
          0.03471167320864245,
          0.07320432591640481,
          0.0010197515170537546,
          0.6202942465907784,
          0.078013232185715,
          0.005862064662574431,
          0.036602093883780745,
          0.002670541264166389,
          0.014537823744559895,
          0.006182048925900621,
          0.012838974123874062,
          0.004297630124099489,
          0.0183946529375237,
          0.2742643954873037,
          0.017022570484221015,
          0.0460384414285537,
          0.0030443742007201487,
          0.32803193867819863,
          0.11123156681274102,
          0.02881551100949447,
          0.01983190364904305,
          0.005050982963083825,
          0.0056889197374145875,
          0.04502092304483942,
          0.21903797814187148,
          0.002788599057876609,
          0.007519257662726405,
          0.08498919145999277,
          0.01336274907553022,
          0.19365575431516185,
          0.016263443481728167
         ],
         "xaxis": "x",
         "y": [
          1,
          2,
          3,
          5,
          6,
          7,
          8,
          9,
          11,
          12,
          14,
          15,
          16,
          17,
          18,
          19,
          20,
          21,
          22,
          23,
          24,
          25,
          26,
          27,
          28,
          29,
          30,
          33,
          34,
          35,
          37,
          38,
          39,
          40,
          42,
          43,
          44,
          45,
          46,
          47,
          48,
          50,
          51,
          52,
          53,
          54,
          55,
          56,
          57,
          58,
          59,
          60,
          61,
          62,
          63,
          64,
          65,
          66,
          67,
          68,
          69,
          70,
          71,
          72,
          73,
          74,
          77,
          78,
          80,
          81,
          82,
          83,
          84,
          85,
          86,
          87,
          89,
          90,
          92,
          94,
          97,
          98,
          99,
          100,
          101,
          102,
          103,
          104,
          105,
          106,
          107,
          108,
          110,
          111,
          112,
          113,
          114,
          115,
          116,
          117,
          119,
          120,
          121,
          122,
          123,
          124,
          125,
          126,
          128,
          129,
          130,
          132,
          133,
          135,
          136,
          137,
          138,
          139,
          140,
          141,
          142,
          143,
          144,
          147,
          148,
          149,
          151,
          152,
          153,
          154,
          156,
          157,
          158,
          159,
          161,
          163,
          164,
          166,
          167,
          168,
          169,
          170,
          171,
          172,
          173,
          174,
          175,
          176,
          177,
          178,
          179,
          180,
          182,
          183,
          184,
          185,
          187,
          188,
          190,
          191,
          192,
          194,
          195,
          196,
          197,
          198,
          199,
          200,
          201,
          202,
          203,
          204,
          205,
          206,
          207,
          208,
          209,
          210,
          211,
          212,
          213,
          214,
          215,
          216,
          217,
          219,
          220,
          221,
          222,
          223,
          224,
          225,
          226,
          227,
          228,
          230,
          231,
          233,
          234,
          235,
          236,
          237,
          239,
          240,
          241,
          242,
          243,
          244,
          245,
          246,
          247,
          248,
          250,
          251,
          252,
          253,
          254,
          255,
          257,
          260,
          263,
          264,
          266,
          269,
          270,
          271,
          272,
          273,
          276,
          277,
          278,
          279,
          280,
          281,
          283,
          284,
          285,
          286,
          287,
          289,
          291,
          292,
          293,
          295,
          296,
          297,
          298,
          299,
          302,
          303,
          305,
          306,
          308,
          309,
          310,
          311,
          312,
          314,
          315,
          316,
          317,
          319,
          320,
          321,
          322,
          323,
          325,
          326,
          327,
          328,
          329,
          331,
          332,
          333,
          334,
          335,
          336,
          337,
          338,
          339,
          340,
          341,
          342,
          343,
          345,
          346,
          347,
          349,
          350,
          351,
          352,
          353,
          354,
          355,
          356,
          358,
          359,
          360,
          361,
          362,
          363,
          364,
          365,
          366,
          367,
          369,
          370,
          372,
          373,
          374,
          375,
          376,
          377,
          379,
          380,
          381,
          382,
          383,
          384,
          385,
          386,
          388,
          389,
          390,
          392,
          393,
          394,
          395,
          396,
          397,
          398,
          399,
          400,
          401,
          402,
          403,
          404,
          405,
          407,
          409,
          410,
          411,
          414,
          416,
          417,
          418,
          419,
          420,
          422,
          424,
          426,
          427,
          428,
          429,
          430,
          431,
          432,
          435,
          437,
          438,
          439,
          440,
          441,
          442,
          443,
          444,
          445,
          446,
          447,
          448,
          449,
          450,
          451,
          452,
          453,
          454,
          455,
          456,
          457,
          458,
          459,
          460,
          461,
          462,
          463,
          464,
          465,
          466,
          468,
          469,
          472,
          473,
          474,
          475,
          476,
          477,
          478,
          480,
          481,
          482,
          483,
          484,
          485,
          488,
          489,
          491,
          492,
          495,
          496,
          497,
          498,
          499,
          501,
          502,
          503,
          504,
          505,
          506,
          507,
          508,
          510,
          512,
          513,
          514,
          515,
          517,
          519,
          520,
          521,
          522,
          523,
          524,
          525,
          527,
          528,
          529,
          531,
          532,
          533,
          534,
          535,
          537,
          539,
          540,
          541,
          542,
          543,
          544,
          545,
          547,
          549,
          550,
          551,
          552,
          553,
          554,
          556,
          557,
          558,
          560,
          561,
          562,
          565,
          566,
          567,
          568,
          569,
          570,
          571,
          572,
          573,
          574,
          575,
          577,
          578,
          579,
          580,
          581,
          582,
          583,
          584,
          586,
          587,
          589,
          590,
          591,
          593,
          594,
          595,
          596,
          597,
          598,
          599,
          600,
          601,
          602,
          603,
          604,
          605,
          606,
          607,
          609,
          610,
          611,
          612,
          613,
          614,
          615,
          616
         ],
         "yaxis": "y"
        },
        {
         "customdata": [
          [
           "000ff2bfdfe9"
          ],
          [
           "044fb8a146ec"
          ],
          [
           "06055f3f6785"
          ],
          [
           "06c0ddf265c5"
          ],
          [
           "0e798fd4e6e7"
          ],
          [
           "0f5fba133cb7"
          ],
          [
           "103f611fdfc4"
          ],
          [
           "1136a2966ed2"
          ],
          [
           "1360fac6a227"
          ],
          [
           "1bac22586f27"
          ],
          [
           "1bcdc1af3458"
          ],
          [
           "1ce075e25399"
          ],
          [
           "228524bde6a3"
          ],
          [
           "245a3f44cfc0"
          ],
          [
           "24b40510d6a2"
          ],
          [
           "2508534155a6"
          ],
          [
           "26c79809c5ea"
          ],
          [
           "2cddd2d70d72"
          ],
          [
           "2f4e5de3de9c"
          ],
          [
           "32c1d5bdae8d"
          ],
          [
           "34a025893d36"
          ],
          [
           "355bdddccdbd"
          ],
          [
           "3924089e4396"
          ],
          [
           "3a288ec2811f"
          ],
          [
           "3bbe922b2cdb"
          ],
          [
           "3e2d6dca77ec"
          ],
          [
           "3f4bfe72745d"
          ],
          [
           "401ca61716e4"
          ],
          [
           "41216f6cee66"
          ],
          [
           "463035913640"
          ],
          [
           "46fe2d3b9e7b"
          ],
          [
           "47e4c756d4a6"
          ],
          [
           "49b8f248a42f"
          ],
          [
           "582ef2696f72"
          ],
          [
           "5c63c7b71282"
          ],
          [
           "5d694ba9aa16"
          ],
          [
           "5fe47095520d"
          ],
          [
           "6468478fce4c"
          ],
          [
           "667b389f278d"
          ],
          [
           "67122d4bce03"
          ],
          [
           "679465bb38ba"
          ],
          [
           "67c8bfe99f1c"
          ],
          [
           "67d932a88814"
          ],
          [
           "68597a95792d"
          ],
          [
           "68729b79859b"
          ],
          [
           "687ebf4e5d7d"
          ],
          [
           "6a2fa7569189"
          ],
          [
           "6ab2d09883de"
          ],
          [
           "6f5908450956"
          ],
          [
           "72ee3bca17f6"
          ],
          [
           "73483f848b67"
          ],
          [
           "7445f4eac4de"
          ],
          [
           "7830dec4b764"
          ],
          [
           "785a0d3c4c41"
          ],
          [
           "79b44ed25c29"
          ],
          [
           "7af31043202c"
          ],
          [
           "7cb9a95a62fc"
          ],
          [
           "7f6d8841c044"
          ],
          [
           "8065efe77fab"
          ],
          [
           "81015c6c3404"
          ],
          [
           "8803ec4462c1"
          ],
          [
           "89a5ed9b71a8"
          ],
          [
           "8ba157c016ba"
          ],
          [
           "8ead0a51d11c"
          ],
          [
           "8f5b7d4621da"
          ],
          [
           "9230d1831db3"
          ],
          [
           "96fbcce4f0c0"
          ],
          [
           "98102929d244"
          ],
          [
           "9ed6b861e9f7"
          ],
          [
           "9ef1886b810c"
          ],
          [
           "a082f422799b"
          ],
          [
           "a20ba8577583"
          ],
          [
           "a22a15853970"
          ],
          [
           "a795db8ca395"
          ],
          [
           "a7d4dd890a1b"
          ],
          [
           "a92580fda1c3"
          ],
          [
           "ac38de805eff"
          ],
          [
           "acc1f36dca1c"
          ],
          [
           "ad8e95777bf2"
          ],
          [
           "b9856a5d8f13"
          ],
          [
           "ba4443b0170c"
          ],
          [
           "bbb1066a9afd"
          ],
          [
           "c08f5a77f267"
          ],
          [
           "c5c8ffd0c908"
          ],
          [
           "c5cc9b3fa0b9"
          ],
          [
           "c5f4dc4ae7fb"
          ],
          [
           "c7f5064f4265"
          ],
          [
           "c809ac237df8"
          ],
          [
           "c9f71bcf8be0"
          ],
          [
           "cf5439add02c"
          ],
          [
           "cf84868cd1ce"
          ],
          [
           "d0ecfae80796"
          ],
          [
           "d1a9f56adc4a"
          ],
          [
           "d3ce7974230c"
          ],
          [
           "d482356ae08f"
          ],
          [
           "d8dae19a0df0"
          ],
          [
           "da1a5aec1818"
          ],
          [
           "deaf77f02382"
          ],
          [
           "dfa4ccdd5f4a"
          ],
          [
           "e253dc2f97c0"
          ],
          [
           "e52a2f7ad6a5"
          ],
          [
           "e76aa8f0f2e7"
          ],
          [
           "e7a607afea3d"
          ],
          [
           "ed3486389307"
          ],
          [
           "f16b095a433f"
          ],
          [
           "f26ee0cee841"
          ],
          [
           "f405c0b5836f"
          ],
          [
           "fbb79ba9d642"
          ]
         ],
         "hovertemplate": "Class=1<br>Positive Class Probability=%{x}<br>Sample Integer Index=%{y}<br>Id=%{customdata[0]}<extra></extra>",
         "legendgroup": "1",
         "marker": {
          "color": "#FF2079",
          "opacity": 0.6,
          "size": 6,
          "symbol": "circle"
         },
         "mode": "markers",
         "name": "1",
         "orientation": "v",
         "showlegend": true,
         "type": "scatter",
         "x": [
          0.9802927964263215,
          0.3707062095411776,
          0.945361817864106,
          0.9799012811960257,
          0.8749673784239576,
          0.8498417760564679,
          0.9092468681554177,
          0.9921072699888848,
          0.9838247499661223,
          0.983196459682017,
          0.9138290885586787,
          0.9894326391657847,
          0.9683191131432402,
          0.8212620838768361,
          0.8811928452077039,
          0.841932871007684,
          0.9862405391508655,
          0.9710588337052395,
          0.9939534070645459,
          0.7978368023137621,
          0.9616572336683017,
          0.9810528212244378,
          0.6391077603110665,
          0.39904101319774654,
          0.9573641945443505,
          0.9379706132629574,
          0.8995062453869274,
          0.9933102311268798,
          0.9976231215348144,
          0.8595340738973405,
          0.6557488048317777,
          0.8052829040527637,
          0.5347583163915656,
          0.981904051195294,
          0.49765272035671737,
          0.7994700923889063,
          0.8903757579221352,
          0.9975450508221284,
          0.9701493615677712,
          0.9545828432512009,
          0.9975428573613379,
          0.9603293715830576,
          0.9349188399988249,
          0.8497011962297722,
          0.6817898082411347,
          0.9831884500491265,
          0.8295023193530386,
          0.5003344959243541,
          0.9905991418115627,
          0.9556519733860007,
          0.9779722534380408,
          0.8178817956557749,
          0.8827164096952821,
          0.7749084840875129,
          0.641577023759296,
          0.9424293989738437,
          0.06470017497141511,
          0.949349932042218,
          0.9809861040300467,
          0.9063701273081198,
          0.7745672724179113,
          0.9116487139735785,
          0.9977788086219682,
          0.993491554488344,
          0.9682984130270581,
          0.7524191830847375,
          0.8853713916904506,
          0.5092318493029756,
          0.9751804266213323,
          0.1385967242041296,
          0.9121913198526682,
          0.48963264415428587,
          0.8725963193392886,
          0.6374812418629938,
          0.9899946554664798,
          0.9757662693385812,
          0.9887746519777838,
          0.6645569573369932,
          0.9070869834201633,
          0.9400150280471589,
          0.5393032155176652,
          0.9718512731760113,
          0.8236666760847224,
          0.9786782773528693,
          0.9147716977306318,
          0.95422626019729,
          0.9783444001225942,
          0.9978455902917818,
          0.876068450442806,
          0.05407239632365331,
          0.9625432726499122,
          0.9691164523118625,
          0.9975131010177872,
          0.9893470597240132,
          0.9909663140087799,
          0.9721135251752674,
          0.991296915392201,
          0.9827727643383986,
          0.96843005648294,
          0.8161797275093561,
          0.918041135154513,
          0.9895235523638846,
          0.9913449878932997,
          0.5622002114295167,
          0.9579143996072368,
          0.9812893464092843,
          0.9086840084596648,
          0.6341380930547185
         ],
         "xaxis": "x",
         "y": [
          0,
          4,
          10,
          13,
          31,
          32,
          36,
          41,
          49,
          75,
          76,
          79,
          88,
          91,
          93,
          95,
          96,
          109,
          118,
          127,
          131,
          134,
          145,
          146,
          150,
          155,
          160,
          162,
          165,
          181,
          186,
          189,
          193,
          218,
          229,
          232,
          238,
          249,
          256,
          258,
          259,
          261,
          262,
          265,
          267,
          268,
          274,
          275,
          282,
          288,
          290,
          294,
          300,
          301,
          304,
          307,
          313,
          318,
          324,
          330,
          344,
          348,
          357,
          368,
          371,
          378,
          387,
          391,
          406,
          408,
          412,
          413,
          415,
          421,
          423,
          425,
          433,
          434,
          436,
          467,
          470,
          471,
          479,
          486,
          487,
          490,
          493,
          494,
          500,
          509,
          511,
          516,
          518,
          526,
          530,
          536,
          538,
          546,
          548,
          555,
          559,
          563,
          564,
          576,
          585,
          588,
          592,
          608
         ],
         "yaxis": "y"
        }
       ],
       "layout": {
        "font": {
         "color": "#010D36"
        },
        "height": 540,
        "legend": {
         "itemsizing": "constant",
         "orientation": "h",
         "title": {
          "text": "Class"
         },
         "tracegroupgap": 0,
         "x": 1,
         "xanchor": "right",
         "y": 1.05,
         "yanchor": "bottom"
        },
        "paper_bgcolor": "#F6F5F5",
        "plot_bgcolor": "#F6F5F5",
        "template": {
         "data": {
          "bar": [
           {
            "error_x": {
             "color": "#2a3f5f"
            },
            "error_y": {
             "color": "#2a3f5f"
            },
            "marker": {
             "line": {
              "color": "#E5ECF6",
              "width": 0.5
             },
             "pattern": {
              "fillmode": "overlay",
              "size": 10,
              "solidity": 0.2
             }
            },
            "type": "bar"
           }
          ],
          "barpolar": [
           {
            "marker": {
             "line": {
              "color": "#E5ECF6",
              "width": 0.5
             },
             "pattern": {
              "fillmode": "overlay",
              "size": 10,
              "solidity": 0.2
             }
            },
            "type": "barpolar"
           }
          ],
          "carpet": [
           {
            "aaxis": {
             "endlinecolor": "#2a3f5f",
             "gridcolor": "white",
             "linecolor": "white",
             "minorgridcolor": "white",
             "startlinecolor": "#2a3f5f"
            },
            "baxis": {
             "endlinecolor": "#2a3f5f",
             "gridcolor": "white",
             "linecolor": "white",
             "minorgridcolor": "white",
             "startlinecolor": "#2a3f5f"
            },
            "type": "carpet"
           }
          ],
          "choropleth": [
           {
            "colorbar": {
             "outlinewidth": 0,
             "ticks": ""
            },
            "type": "choropleth"
           }
          ],
          "contour": [
           {
            "colorbar": {
             "outlinewidth": 0,
             "ticks": ""
            },
            "colorscale": [
             [
              0,
              "#0d0887"
             ],
             [
              0.1111111111111111,
              "#46039f"
             ],
             [
              0.2222222222222222,
              "#7201a8"
             ],
             [
              0.3333333333333333,
              "#9c179e"
             ],
             [
              0.4444444444444444,
              "#bd3786"
             ],
             [
              0.5555555555555556,
              "#d8576b"
             ],
             [
              0.6666666666666666,
              "#ed7953"
             ],
             [
              0.7777777777777778,
              "#fb9f3a"
             ],
             [
              0.8888888888888888,
              "#fdca26"
             ],
             [
              1,
              "#f0f921"
             ]
            ],
            "type": "contour"
           }
          ],
          "contourcarpet": [
           {
            "colorbar": {
             "outlinewidth": 0,
             "ticks": ""
            },
            "type": "contourcarpet"
           }
          ],
          "heatmap": [
           {
            "colorbar": {
             "outlinewidth": 0,
             "ticks": ""
            },
            "colorscale": [
             [
              0,
              "#0d0887"
             ],
             [
              0.1111111111111111,
              "#46039f"
             ],
             [
              0.2222222222222222,
              "#7201a8"
             ],
             [
              0.3333333333333333,
              "#9c179e"
             ],
             [
              0.4444444444444444,
              "#bd3786"
             ],
             [
              0.5555555555555556,
              "#d8576b"
             ],
             [
              0.6666666666666666,
              "#ed7953"
             ],
             [
              0.7777777777777778,
              "#fb9f3a"
             ],
             [
              0.8888888888888888,
              "#fdca26"
             ],
             [
              1,
              "#f0f921"
             ]
            ],
            "type": "heatmap"
           }
          ],
          "heatmapgl": [
           {
            "colorbar": {
             "outlinewidth": 0,
             "ticks": ""
            },
            "colorscale": [
             [
              0,
              "#0d0887"
             ],
             [
              0.1111111111111111,
              "#46039f"
             ],
             [
              0.2222222222222222,
              "#7201a8"
             ],
             [
              0.3333333333333333,
              "#9c179e"
             ],
             [
              0.4444444444444444,
              "#bd3786"
             ],
             [
              0.5555555555555556,
              "#d8576b"
             ],
             [
              0.6666666666666666,
              "#ed7953"
             ],
             [
              0.7777777777777778,
              "#fb9f3a"
             ],
             [
              0.8888888888888888,
              "#fdca26"
             ],
             [
              1,
              "#f0f921"
             ]
            ],
            "type": "heatmapgl"
           }
          ],
          "histogram": [
           {
            "marker": {
             "pattern": {
              "fillmode": "overlay",
              "size": 10,
              "solidity": 0.2
             }
            },
            "type": "histogram"
           }
          ],
          "histogram2d": [
           {
            "colorbar": {
             "outlinewidth": 0,
             "ticks": ""
            },
            "colorscale": [
             [
              0,
              "#0d0887"
             ],
             [
              0.1111111111111111,
              "#46039f"
             ],
             [
              0.2222222222222222,
              "#7201a8"
             ],
             [
              0.3333333333333333,
              "#9c179e"
             ],
             [
              0.4444444444444444,
              "#bd3786"
             ],
             [
              0.5555555555555556,
              "#d8576b"
             ],
             [
              0.6666666666666666,
              "#ed7953"
             ],
             [
              0.7777777777777778,
              "#fb9f3a"
             ],
             [
              0.8888888888888888,
              "#fdca26"
             ],
             [
              1,
              "#f0f921"
             ]
            ],
            "type": "histogram2d"
           }
          ],
          "histogram2dcontour": [
           {
            "colorbar": {
             "outlinewidth": 0,
             "ticks": ""
            },
            "colorscale": [
             [
              0,
              "#0d0887"
             ],
             [
              0.1111111111111111,
              "#46039f"
             ],
             [
              0.2222222222222222,
              "#7201a8"
             ],
             [
              0.3333333333333333,
              "#9c179e"
             ],
             [
              0.4444444444444444,
              "#bd3786"
             ],
             [
              0.5555555555555556,
              "#d8576b"
             ],
             [
              0.6666666666666666,
              "#ed7953"
             ],
             [
              0.7777777777777778,
              "#fb9f3a"
             ],
             [
              0.8888888888888888,
              "#fdca26"
             ],
             [
              1,
              "#f0f921"
             ]
            ],
            "type": "histogram2dcontour"
           }
          ],
          "mesh3d": [
           {
            "colorbar": {
             "outlinewidth": 0,
             "ticks": ""
            },
            "type": "mesh3d"
           }
          ],
          "parcoords": [
           {
            "line": {
             "colorbar": {
              "outlinewidth": 0,
              "ticks": ""
             }
            },
            "type": "parcoords"
           }
          ],
          "pie": [
           {
            "automargin": true,
            "type": "pie"
           }
          ],
          "scatter": [
           {
            "fillpattern": {
             "fillmode": "overlay",
             "size": 10,
             "solidity": 0.2
            },
            "type": "scatter"
           }
          ],
          "scatter3d": [
           {
            "line": {
             "colorbar": {
              "outlinewidth": 0,
              "ticks": ""
             }
            },
            "marker": {
             "colorbar": {
              "outlinewidth": 0,
              "ticks": ""
             }
            },
            "type": "scatter3d"
           }
          ],
          "scattercarpet": [
           {
            "marker": {
             "colorbar": {
              "outlinewidth": 0,
              "ticks": ""
             }
            },
            "type": "scattercarpet"
           }
          ],
          "scattergeo": [
           {
            "marker": {
             "colorbar": {
              "outlinewidth": 0,
              "ticks": ""
             }
            },
            "type": "scattergeo"
           }
          ],
          "scattergl": [
           {
            "marker": {
             "colorbar": {
              "outlinewidth": 0,
              "ticks": ""
             }
            },
            "type": "scattergl"
           }
          ],
          "scattermapbox": [
           {
            "marker": {
             "colorbar": {
              "outlinewidth": 0,
              "ticks": ""
             }
            },
            "type": "scattermapbox"
           }
          ],
          "scatterpolar": [
           {
            "marker": {
             "colorbar": {
              "outlinewidth": 0,
              "ticks": ""
             }
            },
            "type": "scatterpolar"
           }
          ],
          "scatterpolargl": [
           {
            "marker": {
             "colorbar": {
              "outlinewidth": 0,
              "ticks": ""
             }
            },
            "type": "scatterpolargl"
           }
          ],
          "scatterternary": [
           {
            "marker": {
             "colorbar": {
              "outlinewidth": 0,
              "ticks": ""
             }
            },
            "type": "scatterternary"
           }
          ],
          "surface": [
           {
            "colorbar": {
             "outlinewidth": 0,
             "ticks": ""
            },
            "colorscale": [
             [
              0,
              "#0d0887"
             ],
             [
              0.1111111111111111,
              "#46039f"
             ],
             [
              0.2222222222222222,
              "#7201a8"
             ],
             [
              0.3333333333333333,
              "#9c179e"
             ],
             [
              0.4444444444444444,
              "#bd3786"
             ],
             [
              0.5555555555555556,
              "#d8576b"
             ],
             [
              0.6666666666666666,
              "#ed7953"
             ],
             [
              0.7777777777777778,
              "#fb9f3a"
             ],
             [
              0.8888888888888888,
              "#fdca26"
             ],
             [
              1,
              "#f0f921"
             ]
            ],
            "type": "surface"
           }
          ],
          "table": [
           {
            "cells": {
             "fill": {
              "color": "#EBF0F8"
             },
             "line": {
              "color": "white"
             }
            },
            "header": {
             "fill": {
              "color": "#C8D4E3"
             },
             "line": {
              "color": "white"
             }
            },
            "type": "table"
           }
          ]
         },
         "layout": {
          "annotationdefaults": {
           "arrowcolor": "#2a3f5f",
           "arrowhead": 0,
           "arrowwidth": 1
          },
          "autotypenumbers": "strict",
          "coloraxis": {
           "colorbar": {
            "outlinewidth": 0,
            "ticks": ""
           }
          },
          "colorscale": {
           "diverging": [
            [
             0,
             "#8e0152"
            ],
            [
             0.1,
             "#c51b7d"
            ],
            [
             0.2,
             "#de77ae"
            ],
            [
             0.3,
             "#f1b6da"
            ],
            [
             0.4,
             "#fde0ef"
            ],
            [
             0.5,
             "#f7f7f7"
            ],
            [
             0.6,
             "#e6f5d0"
            ],
            [
             0.7,
             "#b8e186"
            ],
            [
             0.8,
             "#7fbc41"
            ],
            [
             0.9,
             "#4d9221"
            ],
            [
             1,
             "#276419"
            ]
           ],
           "sequential": [
            [
             0,
             "#0d0887"
            ],
            [
             0.1111111111111111,
             "#46039f"
            ],
            [
             0.2222222222222222,
             "#7201a8"
            ],
            [
             0.3333333333333333,
             "#9c179e"
            ],
            [
             0.4444444444444444,
             "#bd3786"
            ],
            [
             0.5555555555555556,
             "#d8576b"
            ],
            [
             0.6666666666666666,
             "#ed7953"
            ],
            [
             0.7777777777777778,
             "#fb9f3a"
            ],
            [
             0.8888888888888888,
             "#fdca26"
            ],
            [
             1,
             "#f0f921"
            ]
           ],
           "sequentialminus": [
            [
             0,
             "#0d0887"
            ],
            [
             0.1111111111111111,
             "#46039f"
            ],
            [
             0.2222222222222222,
             "#7201a8"
            ],
            [
             0.3333333333333333,
             "#9c179e"
            ],
            [
             0.4444444444444444,
             "#bd3786"
            ],
            [
             0.5555555555555556,
             "#d8576b"
            ],
            [
             0.6666666666666666,
             "#ed7953"
            ],
            [
             0.7777777777777778,
             "#fb9f3a"
            ],
            [
             0.8888888888888888,
             "#fdca26"
            ],
            [
             1,
             "#f0f921"
            ]
           ]
          },
          "colorway": [
           "#636efa",
           "#EF553B",
           "#00cc96",
           "#ab63fa",
           "#FFA15A",
           "#19d3f3",
           "#FF6692",
           "#B6E880",
           "#FF97FF",
           "#FECB52"
          ],
          "font": {
           "color": "#2a3f5f"
          },
          "geo": {
           "bgcolor": "white",
           "lakecolor": "white",
           "landcolor": "#E5ECF6",
           "showlakes": true,
           "showland": true,
           "subunitcolor": "white"
          },
          "hoverlabel": {
           "align": "left"
          },
          "hovermode": "closest",
          "mapbox": {
           "style": "light"
          },
          "paper_bgcolor": "white",
          "plot_bgcolor": "#E5ECF6",
          "polar": {
           "angularaxis": {
            "gridcolor": "white",
            "linecolor": "white",
            "ticks": ""
           },
           "bgcolor": "#E5ECF6",
           "radialaxis": {
            "gridcolor": "white",
            "linecolor": "white",
            "ticks": ""
           }
          },
          "scene": {
           "xaxis": {
            "backgroundcolor": "#E5ECF6",
            "gridcolor": "white",
            "gridwidth": 2,
            "linecolor": "white",
            "showbackground": true,
            "ticks": "",
            "zerolinecolor": "white"
           },
           "yaxis": {
            "backgroundcolor": "#E5ECF6",
            "gridcolor": "white",
            "gridwidth": 2,
            "linecolor": "white",
            "showbackground": true,
            "ticks": "",
            "zerolinecolor": "white"
           },
           "zaxis": {
            "backgroundcolor": "#E5ECF6",
            "gridcolor": "white",
            "gridwidth": 2,
            "linecolor": "white",
            "showbackground": true,
            "ticks": "",
            "zerolinecolor": "white"
           }
          },
          "shapedefaults": {
           "line": {
            "color": "#2a3f5f"
           }
          },
          "ternary": {
           "aaxis": {
            "gridcolor": "white",
            "linecolor": "white",
            "ticks": ""
           },
           "baxis": {
            "gridcolor": "white",
            "linecolor": "white",
            "ticks": ""
           },
           "bgcolor": "#E5ECF6",
           "caxis": {
            "gridcolor": "white",
            "linecolor": "white",
            "ticks": ""
           }
          },
          "title": {
           "x": 0.05
          },
          "xaxis": {
           "automargin": true,
           "gridcolor": "white",
           "linecolor": "white",
           "ticks": "",
           "title": {
            "standoff": 15
           },
           "zerolinecolor": "white",
           "zerolinewidth": 2
          },
          "yaxis": {
           "automargin": true,
           "gridcolor": "white",
           "linecolor": "white",
           "ticks": "",
           "title": {
            "standoff": 15
           },
           "zerolinecolor": "white",
           "zerolinewidth": 2
          }
         }
        },
        "title": {
         "font": {
          "size": 18
         },
         "text": "Training Dataset - Out of Fold Predictions"
        },
        "width": 840,
        "xaxis": {
         "anchor": "y",
         "domain": [
          0,
          1
         ],
         "range": [
          -0.02,
          1.02
         ],
         "title": {
          "text": "Positive Class Probability"
         }
        },
        "yaxis": {
         "anchor": "x",
         "domain": [
          0,
          1
         ],
         "title": {
          "text": "Sample Integer Index"
         }
        }
       }
      }
     },
     "metadata": {},
     "output_type": "display_data"
    }
   ],
   "source": [
    "y_proba_frame = pd.DataFrame(\n",
    "    {\n",
    "        \"Sample Integer Index\": np.arange(0, len(y)),\n",
    "        \"Positive Class Probability\": y_proba_rescaled,\n",
    "        \"Class\": y.values.astype(str),\n",
    "    },\n",
    "    index=y.index,\n",
    ")\n",
    "\n",
    "fig = px.scatter(\n",
    "    y_proba_frame.reset_index(),\n",
    "    x=\"Positive Class Probability\",\n",
    "    y=\"Sample Integer Index\",\n",
    "    symbol=\"Class\",\n",
    "    symbol_sequence=[\"diamond\", \"circle\"],\n",
    "    color=\"Class\",\n",
    "    color_discrete_sequence=[\"#010D36\", \"#FF2079\"],\n",
    "    category_orders={\"Class\": (\"0\", \"1\")},\n",
    "    hover_data=\"Id\",\n",
    "    opacity=0.6,\n",
    "    height=540,\n",
    "    width=840,\n",
    "    title=\"Training Dataset - Out of Fold Predictions\",\n",
    ")\n",
    "fig.update_layout(\n",
    "    font_color=FONT_COLOR,\n",
    "    title_font_size=18,\n",
    "    plot_bgcolor=BACKGROUND_COLOR,\n",
    "    paper_bgcolor=BACKGROUND_COLOR,\n",
    "    legend=dict(\n",
    "        orientation=\"h\",\n",
    "        yanchor=\"bottom\",\n",
    "        xanchor=\"right\",\n",
    "        y=1.05,\n",
    "        x=1,\n",
    "        title=\"Class\",\n",
    "        itemsizing=\"constant\",\n",
    "    ),\n",
    "    xaxis_range=[-0.02, 1.02],\n",
    ")\n",
    "fig.update_traces(marker_size=6)\n",
    "fig.show()"
   ]
  },
  {
   "cell_type": "code",
   "execution_count": null,
   "metadata": {},
   "outputs": [],
   "source": [
    "if np.all(np.isclose(test.select_dtypes(\"number\").sum(), 0)):\n",
    "    test_numeric_cols = test.select_dtypes(\"number\").columns\n",
    "    test[test_numeric_cols] += 1e-9\n",
    "\n",
    "test_ids = test.index\n",
    "y_test = np.zeros_like(test_ids)\n",
    "\n",
    "for classifier in classifiers.values():\n",
    "    y_test += classifier.predict_proba(test)[:, 1]\n",
    "\n",
    "y_test_rescaled = y_test / len(classifiers)\n",
    "y_test_postprocessed = perform_postprocessing(y_test_rescaled)\n"
   ]
  },
  {
   "cell_type": "code",
   "execution_count": null,
   "metadata": {},
   "outputs": [
    {
     "data": {
      "text/plain": [
       "200"
      ]
     },
     "execution_count": 86,
     "metadata": {},
     "output_type": "execute_result"
    }
   ],
   "source": [
    "len(classifiers)"
   ]
  },
  {
   "cell_type": "code",
   "execution_count": null,
   "metadata": {},
   "outputs": [
    {
     "data": {
      "text/html": [
       "<div>\n",
       "<style scoped>\n",
       "    .dataframe tbody tr th:only-of-type {\n",
       "        vertical-align: middle;\n",
       "    }\n",
       "\n",
       "    .dataframe tbody tr th {\n",
       "        vertical-align: top;\n",
       "    }\n",
       "\n",
       "    .dataframe thead th {\n",
       "        text-align: right;\n",
       "    }\n",
       "</style>\n",
       "<table border=\"1\" class=\"dataframe\">\n",
       "  <thead>\n",
       "    <tr style=\"text-align: right;\">\n",
       "      <th></th>\n",
       "      <th>class_0</th>\n",
       "      <th>class_1</th>\n",
       "    </tr>\n",
       "    <tr>\n",
       "      <th>Id</th>\n",
       "      <th></th>\n",
       "      <th></th>\n",
       "    </tr>\n",
       "  </thead>\n",
       "  <tbody>\n",
       "    <tr>\n",
       "      <th>00eed32682bb</th>\n",
       "      <td>0.385669</td>\n",
       "      <td>0.614331</td>\n",
       "    </tr>\n",
       "    <tr>\n",
       "      <th>010ebe33f668</th>\n",
       "      <td>0.385669</td>\n",
       "      <td>0.614331</td>\n",
       "    </tr>\n",
       "    <tr>\n",
       "      <th>02fa521e1838</th>\n",
       "      <td>0.385669</td>\n",
       "      <td>0.614331</td>\n",
       "    </tr>\n",
       "    <tr>\n",
       "      <th>040e15f562a2</th>\n",
       "      <td>0.385669</td>\n",
       "      <td>0.614331</td>\n",
       "    </tr>\n",
       "    <tr>\n",
       "      <th>046e85c7cc7f</th>\n",
       "      <td>0.385669</td>\n",
       "      <td>0.614331</td>\n",
       "    </tr>\n",
       "  </tbody>\n",
       "</table>\n",
       "</div>"
      ],
      "text/plain": [
       "               class_0   class_1\n",
       "Id                              \n",
       "00eed32682bb  0.385669  0.614331\n",
       "010ebe33f668  0.385669  0.614331\n",
       "02fa521e1838  0.385669  0.614331\n",
       "040e15f562a2  0.385669  0.614331\n",
       "046e85c7cc7f  0.385669  0.614331"
      ]
     },
     "execution_count": 85,
     "metadata": {},
     "output_type": "execute_result"
    }
   ],
   "source": [
    "submission = pd.DataFrame(\n",
    "    {\n",
    "        \"Id\": test_ids,\n",
    "        \"class_0\": 1 - y_test_rescaled,\n",
    "        \"class_1\": y_test_rescaled,\n",
    "    }\n",
    ").set_index(\"Id\")\n",
    "\n",
    "submission.to_csv(\"submission.csv\")\n",
    "submission.head()\n"
   ]
  },
  {
   "cell_type": "code",
   "execution_count": 95,
   "metadata": {},
   "outputs": [
    {
     "data": {
      "text/plain": [
       "0.24979218663281194"
      ]
     },
     "execution_count": 95,
     "metadata": {},
     "output_type": "execute_result"
    }
   ],
   "source": [
    "SEED = 3\n",
    "SPLITS = 5\n",
    "\n",
    "model_on_seed = make_pipeline(\n",
    "    preliminary_transform_preprocess,\n",
    "    FunctionTransformer(lambda X: X[relevant_variables]),\n",
    "    VotingClassifier(\n",
    "        [\n",
    "            (\"lgbm\", LGBMClassifier(random_state=SEED, **lgbm_params)),\n",
    "            (\"xgb\", XGBClassifier(random_state=SEED, **xgb_params)),\n",
    "        ],\n",
    "        voting=\"soft\",\n",
    "    ),\n",
    ")\n",
    "\n",
    "scores = -cross_val_score(\n",
    "    model_on_seed,\n",
    "    X,\n",
    "    y,\n",
    "    scoring=make_scorer(balanced_log_loss, greater_is_better=False, needs_proba=True),\n",
    "    cv=StratifiedKFold(n_splits=SPLITS, shuffle=True, random_state=SEED),\n",
    "    n_jobs=SPLITS,\n",
    ").mean()\n",
    "\n",
    "scores"
   ]
  }
 ],
 "metadata": {
  "kernelspec": {
   "display_name": "Python 3",
   "language": "python",
   "name": "python3"
  },
  "language_info": {
   "codemirror_mode": {
    "name": "ipython",
    "version": 3
   },
   "file_extension": ".py",
   "mimetype": "text/x-python",
   "name": "python",
   "nbconvert_exporter": "python",
   "pygments_lexer": "ipython3",
   "version": "3.10.5"
  },
  "orig_nbformat": 4
 },
 "nbformat": 4,
 "nbformat_minor": 2
}
